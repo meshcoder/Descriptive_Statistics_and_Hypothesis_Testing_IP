{
 "cells": [
  {
   "cell_type": "markdown",
   "id": "49eb3f00",
   "metadata": {},
   "source": [
    "### This notebook contains code and its respective documentation for both the descriptive analytics and hypothesis testing independent project as completed by Meshack Mbonge."
   ]
  },
  {
   "cell_type": "markdown",
   "id": "16b70cff",
   "metadata": {
    "id": "16b70cff"
   },
   "source": [
    "# Descriptive Statistics\n",
    "\n",
    "The research problem is to figure out how we can predict which individuals are most likely to have or use a bank account. Our solution will help provide an indication of the state of financial inclusion in Kenya, Rwanda, Tanzania, and Uganda, while providing insights into some of the key demographic factors that might drive individuals’ financial outcomes.\n",
    "\n",
    "In order to work on the above problem, we need to do the following:\n",
    "\n",
    "\n",
    "1.  Define the question, the metric for success, the context, experimental design taken and the appropriateness of the available data to answer the given question. \n",
    "2.  Find and deal with outliers, anomalies, and missing data within the dataset.\n",
    "3. Perform univariate, bivariate and multivariate analysis recording our observations.\n",
    "4. Implement the solution by performing the respective analysis i.e. factor analysis, principal component analysis, and discriminant analysis.\n",
    "\n",
    "5. Challenge our solution by providing insights on how we can make improvements.\n",
    "\n",
    "First, let's load the required libraries and the dataset."
   ]
  },
  {
   "cell_type": "code",
   "execution_count": 1,
   "id": "feb45e30",
   "metadata": {
    "executionInfo": {
     "elapsed": 1437,
     "status": "ok",
     "timestamp": 1654868467520,
     "user": {
      "displayName": "Meshack Mbonge",
      "userId": "14960026128969644465"
     },
     "user_tz": -180
    },
    "id": "feb45e30"
   },
   "outputs": [],
   "source": [
    "# Import required libraries\n",
    "import numpy as np\n",
    "import pandas as pd\n",
    "import matplotlib.pyplot as plt\n",
    "import seaborn as sns"
   ]
  },
  {
   "cell_type": "code",
   "execution_count": 2,
   "id": "c2527b48",
   "metadata": {
    "colab": {
     "base_uri": "https://localhost:8080/",
     "height": 143
    },
    "executionInfo": {
     "elapsed": 57,
     "status": "ok",
     "timestamp": 1654868467524,
     "user": {
      "displayName": "Meshack Mbonge",
      "userId": "14960026128969644465"
     },
     "user_tz": -180
    },
    "id": "c2527b48",
    "outputId": "4e45741b-d702-47e2-97b6-2708cee2bba3"
   },
   "outputs": [
    {
     "data": {
      "text/html": [
       "<div>\n",
       "<style scoped>\n",
       "    .dataframe tbody tr th:only-of-type {\n",
       "        vertical-align: middle;\n",
       "    }\n",
       "\n",
       "    .dataframe tbody tr th {\n",
       "        vertical-align: top;\n",
       "    }\n",
       "\n",
       "    .dataframe thead th {\n",
       "        text-align: right;\n",
       "    }\n",
       "</style>\n",
       "<table border=\"1\" class=\"dataframe\">\n",
       "  <thead>\n",
       "    <tr style=\"text-align: right;\">\n",
       "      <th></th>\n",
       "      <th>country</th>\n",
       "      <th>year</th>\n",
       "      <th>uniqueid</th>\n",
       "      <th>Has a Bank account</th>\n",
       "      <th>Type of Location</th>\n",
       "      <th>Cell Phone Access</th>\n",
       "      <th>household_size</th>\n",
       "      <th>Respondent Age</th>\n",
       "      <th>gender_of_respondent</th>\n",
       "      <th>The relathip with head</th>\n",
       "      <th>marital_status</th>\n",
       "      <th>Level of Educuation</th>\n",
       "      <th>Type of Job</th>\n",
       "    </tr>\n",
       "  </thead>\n",
       "  <tbody>\n",
       "    <tr>\n",
       "      <th>0</th>\n",
       "      <td>Kenya</td>\n",
       "      <td>2018</td>\n",
       "      <td>uniqueid_1</td>\n",
       "      <td>Yes</td>\n",
       "      <td>Rural</td>\n",
       "      <td>Yes</td>\n",
       "      <td>3.0</td>\n",
       "      <td>24.0</td>\n",
       "      <td>Female</td>\n",
       "      <td>Spouse</td>\n",
       "      <td>Married/Living together</td>\n",
       "      <td>Secondary education</td>\n",
       "      <td>Self employed</td>\n",
       "    </tr>\n",
       "    <tr>\n",
       "      <th>1</th>\n",
       "      <td>Kenya</td>\n",
       "      <td>2018</td>\n",
       "      <td>uniqueid_2</td>\n",
       "      <td>No</td>\n",
       "      <td>Rural</td>\n",
       "      <td>No</td>\n",
       "      <td>5.0</td>\n",
       "      <td>70.0</td>\n",
       "      <td>Female</td>\n",
       "      <td>Head of Household</td>\n",
       "      <td>Widowed</td>\n",
       "      <td>No formal education</td>\n",
       "      <td>Government Dependent</td>\n",
       "    </tr>\n",
       "    <tr>\n",
       "      <th>2</th>\n",
       "      <td>Kenya</td>\n",
       "      <td>2018</td>\n",
       "      <td>uniqueid_3</td>\n",
       "      <td>Yes</td>\n",
       "      <td>Urban</td>\n",
       "      <td>Yes</td>\n",
       "      <td>5.0</td>\n",
       "      <td>26.0</td>\n",
       "      <td>Male</td>\n",
       "      <td>Other relative</td>\n",
       "      <td>Single/Never Married</td>\n",
       "      <td>Vocational/Specialised training</td>\n",
       "      <td>Self employed</td>\n",
       "    </tr>\n",
       "  </tbody>\n",
       "</table>\n",
       "</div>"
      ],
      "text/plain": [
       "  country  year    uniqueid Has a Bank account Type of Location  \\\n",
       "0   Kenya  2018  uniqueid_1                Yes            Rural   \n",
       "1   Kenya  2018  uniqueid_2                 No            Rural   \n",
       "2   Kenya  2018  uniqueid_3                Yes            Urban   \n",
       "\n",
       "  Cell Phone Access  household_size  Respondent Age gender_of_respondent  \\\n",
       "0               Yes             3.0            24.0               Female   \n",
       "1                No             5.0            70.0               Female   \n",
       "2               Yes             5.0            26.0                 Male   \n",
       "\n",
       "  The relathip with head           marital_status  \\\n",
       "0                 Spouse  Married/Living together   \n",
       "1      Head of Household                  Widowed   \n",
       "2         Other relative     Single/Never Married   \n",
       "\n",
       "               Level of Educuation           Type of Job  \n",
       "0              Secondary education         Self employed  \n",
       "1              No formal education  Government Dependent  \n",
       "2  Vocational/Specialised training         Self employed  "
      ]
     },
     "execution_count": 2,
     "metadata": {},
     "output_type": "execute_result"
    }
   ],
   "source": [
    "# Importing dataset\n",
    "\n",
    "data = pd.read_csv('financial_inclusion.csv')\n",
    "\n",
    "# Preview first 3 rows of the dataset\n",
    "data.head(3)"
   ]
  },
  {
   "cell_type": "code",
   "execution_count": 3,
   "id": "1b2d26c2",
   "metadata": {
    "colab": {
     "base_uri": "https://localhost:8080/",
     "height": 143
    },
    "executionInfo": {
     "elapsed": 57,
     "status": "ok",
     "timestamp": 1654868467526,
     "user": {
      "displayName": "Meshack Mbonge",
      "userId": "14960026128969644465"
     },
     "user_tz": -180
    },
    "id": "1b2d26c2",
    "outputId": "0a2b875a-d1f5-4d04-9a2a-8c2473f8a15e"
   },
   "outputs": [
    {
     "data": {
      "text/html": [
       "<div>\n",
       "<style scoped>\n",
       "    .dataframe tbody tr th:only-of-type {\n",
       "        vertical-align: middle;\n",
       "    }\n",
       "\n",
       "    .dataframe tbody tr th {\n",
       "        vertical-align: top;\n",
       "    }\n",
       "\n",
       "    .dataframe thead th {\n",
       "        text-align: right;\n",
       "    }\n",
       "</style>\n",
       "<table border=\"1\" class=\"dataframe\">\n",
       "  <thead>\n",
       "    <tr style=\"text-align: right;\">\n",
       "      <th></th>\n",
       "      <th>country</th>\n",
       "      <th>year</th>\n",
       "      <th>uniqueid</th>\n",
       "      <th>Has a Bank account</th>\n",
       "      <th>Type of Location</th>\n",
       "      <th>Cell Phone Access</th>\n",
       "      <th>household_size</th>\n",
       "      <th>Respondent Age</th>\n",
       "      <th>gender_of_respondent</th>\n",
       "      <th>The relathip with head</th>\n",
       "      <th>marital_status</th>\n",
       "      <th>Level of Educuation</th>\n",
       "      <th>Type of Job</th>\n",
       "    </tr>\n",
       "  </thead>\n",
       "  <tbody>\n",
       "    <tr>\n",
       "      <th>23521</th>\n",
       "      <td>Uganda</td>\n",
       "      <td>2018</td>\n",
       "      <td>uniqueid_2115</td>\n",
       "      <td>No</td>\n",
       "      <td>Rural</td>\n",
       "      <td>Yes</td>\n",
       "      <td>5.0</td>\n",
       "      <td>27.0</td>\n",
       "      <td>Female</td>\n",
       "      <td>Parent</td>\n",
       "      <td>Widowed</td>\n",
       "      <td>Primary education</td>\n",
       "      <td>Other Income</td>\n",
       "    </tr>\n",
       "    <tr>\n",
       "      <th>23522</th>\n",
       "      <td>Uganda</td>\n",
       "      <td>2018</td>\n",
       "      <td>uniqueid_2116</td>\n",
       "      <td>No</td>\n",
       "      <td>Urban</td>\n",
       "      <td>Yes</td>\n",
       "      <td>7.0</td>\n",
       "      <td>30.0</td>\n",
       "      <td>Female</td>\n",
       "      <td>Parent</td>\n",
       "      <td>Divorced/Seperated</td>\n",
       "      <td>Secondary education</td>\n",
       "      <td>Self employed</td>\n",
       "    </tr>\n",
       "    <tr>\n",
       "      <th>23523</th>\n",
       "      <td>Uganda</td>\n",
       "      <td>2018</td>\n",
       "      <td>uniqueid_2117</td>\n",
       "      <td>No</td>\n",
       "      <td>Rural</td>\n",
       "      <td>Yes</td>\n",
       "      <td>10.0</td>\n",
       "      <td>20.0</td>\n",
       "      <td>Male</td>\n",
       "      <td>Child</td>\n",
       "      <td>Single/Never Married</td>\n",
       "      <td>Secondary education</td>\n",
       "      <td>No Income</td>\n",
       "    </tr>\n",
       "  </tbody>\n",
       "</table>\n",
       "</div>"
      ],
      "text/plain": [
       "      country  year       uniqueid Has a Bank account Type of Location  \\\n",
       "23521  Uganda  2018  uniqueid_2115                 No            Rural   \n",
       "23522  Uganda  2018  uniqueid_2116                 No            Urban   \n",
       "23523  Uganda  2018  uniqueid_2117                 No            Rural   \n",
       "\n",
       "      Cell Phone Access  household_size  Respondent Age gender_of_respondent  \\\n",
       "23521               Yes             5.0            27.0               Female   \n",
       "23522               Yes             7.0            30.0               Female   \n",
       "23523               Yes            10.0            20.0                 Male   \n",
       "\n",
       "      The relathip with head        marital_status  Level of Educuation  \\\n",
       "23521                 Parent               Widowed    Primary education   \n",
       "23522                 Parent    Divorced/Seperated  Secondary education   \n",
       "23523                  Child  Single/Never Married  Secondary education   \n",
       "\n",
       "         Type of Job  \n",
       "23521   Other Income  \n",
       "23522  Self employed  \n",
       "23523      No Income  "
      ]
     },
     "execution_count": 3,
     "metadata": {},
     "output_type": "execute_result"
    }
   ],
   "source": [
    "# Preview last 3 rows of the dataset\n",
    "data.tail(3)"
   ]
  },
  {
   "cell_type": "markdown",
   "id": "aEA2APobCP7S",
   "metadata": {
    "id": "aEA2APobCP7S"
   },
   "source": [
    "## 1. Defining the Question\n",
    "\n",
    "In this analysis, having a bank account is seen as measure of financial inclusion. As such, the variable **Has a Bank account** is going to be our target variable. Using Exploratory Data Analysis (EDA) approached we are going to try to answer the following questions;\n",
    "\n",
    "\n",
    "**Univariate Analysis**\n",
    "\n",
    "*   What is the proportion of the observations are recorded as having a bank account vs those without?\n",
    "*   What is the percentage split in terms on proportions for each on the independent variables?\n",
    "\n",
    "**Bivariate Analysis**\n",
    "\n",
    "*   What is the empirical relationship between each of the independent variables and the target variable?\n",
    "\n",
    "**Multivariate Analysis**\n",
    "\n",
    "*   How can we reduce the number of variables into a few specific components such that the components successively explain the variability of the dataset?\n",
    "\n",
    "\n",
    "\n",
    "\n",
    "\n"
   ]
  },
  {
   "cell_type": "code",
   "execution_count": 4,
   "id": "c8a878f7",
   "metadata": {
    "colab": {
     "base_uri": "https://localhost:8080/"
    },
    "executionInfo": {
     "elapsed": 56,
     "status": "ok",
     "timestamp": 1654868467528,
     "user": {
      "displayName": "Meshack Mbonge",
      "userId": "14960026128969644465"
     },
     "user_tz": -180
    },
    "id": "c8a878f7",
    "outputId": "2fa17f7b-d0d1-46d1-cfec-43319a94b7dd"
   },
   "outputs": [
    {
     "name": "stdout",
     "output_type": "stream",
     "text": [
      "(23524, 13)\n"
     ]
    },
    {
     "data": {
      "text/plain": [
       "Index(['country', 'year', 'uniqueid', 'Has a Bank account', 'Type of Location',\n",
       "       'Cell Phone Access', 'household_size', 'Respondent Age',\n",
       "       'gender_of_respondent', 'The relathip with head', 'marital_status',\n",
       "       'Level of Educuation', 'Type of Job'],\n",
       "      dtype='object')"
      ]
     },
     "execution_count": 4,
     "metadata": {},
     "output_type": "execute_result"
    }
   ],
   "source": [
    "# Checking the size of the data\n",
    "print(data.shape)\n",
    "\n",
    "# Printing out column names\n",
    "data.columns"
   ]
  },
  {
   "cell_type": "markdown",
   "id": "99e39613",
   "metadata": {
    "id": "99e39613"
   },
   "source": [
    "**Observation:** The dataset contains 23,524 observations/records spread across 13 columns. For the purposes of uniformity and referencing in our code, we shall rename our columns."
   ]
  },
  {
   "cell_type": "code",
   "execution_count": 5,
   "id": "Fi0gtWDrJQZ0",
   "metadata": {
    "executionInfo": {
     "elapsed": 50,
     "status": "ok",
     "timestamp": 1654868467530,
     "user": {
      "displayName": "Meshack Mbonge",
      "userId": "14960026128969644465"
     },
     "user_tz": -180
    },
    "id": "Fi0gtWDrJQZ0"
   },
   "outputs": [],
   "source": [
    "# Renaming columns\n",
    "data.columns = ['country', 'year', 'id','banking_status',\n",
    "               'location', 'cell_phone', 'household_size', 'age', 'gender', \n",
    "               'rship_with_head', 'marital_status', 'education', 'job']"
   ]
  },
  {
   "cell_type": "code",
   "execution_count": 6,
   "id": "891ccc22",
   "metadata": {
    "colab": {
     "base_uri": "https://localhost:8080/"
    },
    "executionInfo": {
     "elapsed": 51,
     "status": "ok",
     "timestamp": 1654868467531,
     "user": {
      "displayName": "Meshack Mbonge",
      "userId": "14960026128969644465"
     },
     "user_tz": -180
    },
    "id": "891ccc22",
    "outputId": "23073aed-c7d4-495d-f804-28441d01795e"
   },
   "outputs": [
    {
     "data": {
      "text/plain": [
       "country             object\n",
       "year                 int64\n",
       "id                  object\n",
       "banking_status      object\n",
       "location            object\n",
       "cell_phone          object\n",
       "household_size     float64\n",
       "age                float64\n",
       "gender              object\n",
       "rship_with_head     object\n",
       "marital_status      object\n",
       "education           object\n",
       "job                 object\n",
       "dtype: object"
      ]
     },
     "execution_count": 6,
     "metadata": {},
     "output_type": "execute_result"
    }
   ],
   "source": [
    "# Checking data types\n",
    "data.dtypes"
   ]
  },
  {
   "cell_type": "markdown",
   "id": "f4d67382",
   "metadata": {
    "id": "f4d67382"
   },
   "source": [
    "**Observation:** Majority of variables in our dataset are categorical with only *household_size*, *Age* and *year* being numeric. \n",
    "\n",
    "Let's check the descriptive statistics of the entire dataset."
   ]
  },
  {
   "cell_type": "code",
   "execution_count": 7,
   "id": "63dfa7c5",
   "metadata": {
    "colab": {
     "base_uri": "https://localhost:8080/",
     "height": 394
    },
    "executionInfo": {
     "elapsed": 41,
     "status": "ok",
     "timestamp": 1654868467533,
     "user": {
      "displayName": "Meshack Mbonge",
      "userId": "14960026128969644465"
     },
     "user_tz": -180
    },
    "id": "63dfa7c5",
    "outputId": "22cb81f3-aeaa-42e0-c95b-797edb87072c"
   },
   "outputs": [
    {
     "data": {
      "text/html": [
       "<div>\n",
       "<style scoped>\n",
       "    .dataframe tbody tr th:only-of-type {\n",
       "        vertical-align: middle;\n",
       "    }\n",
       "\n",
       "    .dataframe tbody tr th {\n",
       "        vertical-align: top;\n",
       "    }\n",
       "\n",
       "    .dataframe thead th {\n",
       "        text-align: right;\n",
       "    }\n",
       "</style>\n",
       "<table border=\"1\" class=\"dataframe\">\n",
       "  <thead>\n",
       "    <tr style=\"text-align: right;\">\n",
       "      <th></th>\n",
       "      <th>country</th>\n",
       "      <th>year</th>\n",
       "      <th>id</th>\n",
       "      <th>banking_status</th>\n",
       "      <th>location</th>\n",
       "      <th>cell_phone</th>\n",
       "      <th>household_size</th>\n",
       "      <th>age</th>\n",
       "      <th>gender</th>\n",
       "      <th>rship_with_head</th>\n",
       "      <th>marital_status</th>\n",
       "      <th>education</th>\n",
       "      <th>job</th>\n",
       "    </tr>\n",
       "  </thead>\n",
       "  <tbody>\n",
       "    <tr>\n",
       "      <th>count</th>\n",
       "      <td>23510</td>\n",
       "      <td>23524.000000</td>\n",
       "      <td>23524</td>\n",
       "      <td>23488</td>\n",
       "      <td>23509</td>\n",
       "      <td>23513</td>\n",
       "      <td>23496.000000</td>\n",
       "      <td>23490.000000</td>\n",
       "      <td>23490</td>\n",
       "      <td>23520</td>\n",
       "      <td>23492</td>\n",
       "      <td>23495</td>\n",
       "      <td>23494</td>\n",
       "    </tr>\n",
       "    <tr>\n",
       "      <th>unique</th>\n",
       "      <td>4</td>\n",
       "      <td>NaN</td>\n",
       "      <td>8735</td>\n",
       "      <td>2</td>\n",
       "      <td>2</td>\n",
       "      <td>2</td>\n",
       "      <td>NaN</td>\n",
       "      <td>NaN</td>\n",
       "      <td>2</td>\n",
       "      <td>6</td>\n",
       "      <td>5</td>\n",
       "      <td>7</td>\n",
       "      <td>10</td>\n",
       "    </tr>\n",
       "    <tr>\n",
       "      <th>top</th>\n",
       "      <td>Rwanda</td>\n",
       "      <td>NaN</td>\n",
       "      <td>uniqueid_38</td>\n",
       "      <td>No</td>\n",
       "      <td>Rural</td>\n",
       "      <td>Yes</td>\n",
       "      <td>NaN</td>\n",
       "      <td>NaN</td>\n",
       "      <td>Female</td>\n",
       "      <td>Head of Household</td>\n",
       "      <td>Married/Living together</td>\n",
       "      <td>Primary education</td>\n",
       "      <td>Self employed</td>\n",
       "    </tr>\n",
       "    <tr>\n",
       "      <th>freq</th>\n",
       "      <td>8735</td>\n",
       "      <td>NaN</td>\n",
       "      <td>4</td>\n",
       "      <td>20179</td>\n",
       "      <td>14338</td>\n",
       "      <td>17449</td>\n",
       "      <td>NaN</td>\n",
       "      <td>NaN</td>\n",
       "      <td>13859</td>\n",
       "      <td>12829</td>\n",
       "      <td>10739</td>\n",
       "      <td>12775</td>\n",
       "      <td>6428</td>\n",
       "    </tr>\n",
       "    <tr>\n",
       "      <th>mean</th>\n",
       "      <td>NaN</td>\n",
       "      <td>2016.979000</td>\n",
       "      <td>NaN</td>\n",
       "      <td>NaN</td>\n",
       "      <td>NaN</td>\n",
       "      <td>NaN</td>\n",
       "      <td>3.681818</td>\n",
       "      <td>38.804300</td>\n",
       "      <td>NaN</td>\n",
       "      <td>NaN</td>\n",
       "      <td>NaN</td>\n",
       "      <td>NaN</td>\n",
       "      <td>NaN</td>\n",
       "    </tr>\n",
       "    <tr>\n",
       "      <th>std</th>\n",
       "      <td>NaN</td>\n",
       "      <td>0.899669</td>\n",
       "      <td>NaN</td>\n",
       "      <td>NaN</td>\n",
       "      <td>NaN</td>\n",
       "      <td>NaN</td>\n",
       "      <td>2.279933</td>\n",
       "      <td>16.519996</td>\n",
       "      <td>NaN</td>\n",
       "      <td>NaN</td>\n",
       "      <td>NaN</td>\n",
       "      <td>NaN</td>\n",
       "      <td>NaN</td>\n",
       "    </tr>\n",
       "    <tr>\n",
       "      <th>min</th>\n",
       "      <td>NaN</td>\n",
       "      <td>2016.000000</td>\n",
       "      <td>NaN</td>\n",
       "      <td>NaN</td>\n",
       "      <td>NaN</td>\n",
       "      <td>NaN</td>\n",
       "      <td>0.000000</td>\n",
       "      <td>16.000000</td>\n",
       "      <td>NaN</td>\n",
       "      <td>NaN</td>\n",
       "      <td>NaN</td>\n",
       "      <td>NaN</td>\n",
       "      <td>NaN</td>\n",
       "    </tr>\n",
       "    <tr>\n",
       "      <th>25%</th>\n",
       "      <td>NaN</td>\n",
       "      <td>2016.000000</td>\n",
       "      <td>NaN</td>\n",
       "      <td>NaN</td>\n",
       "      <td>NaN</td>\n",
       "      <td>NaN</td>\n",
       "      <td>2.000000</td>\n",
       "      <td>26.000000</td>\n",
       "      <td>NaN</td>\n",
       "      <td>NaN</td>\n",
       "      <td>NaN</td>\n",
       "      <td>NaN</td>\n",
       "      <td>NaN</td>\n",
       "    </tr>\n",
       "    <tr>\n",
       "      <th>50%</th>\n",
       "      <td>NaN</td>\n",
       "      <td>2017.000000</td>\n",
       "      <td>NaN</td>\n",
       "      <td>NaN</td>\n",
       "      <td>NaN</td>\n",
       "      <td>NaN</td>\n",
       "      <td>3.000000</td>\n",
       "      <td>35.000000</td>\n",
       "      <td>NaN</td>\n",
       "      <td>NaN</td>\n",
       "      <td>NaN</td>\n",
       "      <td>NaN</td>\n",
       "      <td>NaN</td>\n",
       "    </tr>\n",
       "    <tr>\n",
       "      <th>75%</th>\n",
       "      <td>NaN</td>\n",
       "      <td>2018.000000</td>\n",
       "      <td>NaN</td>\n",
       "      <td>NaN</td>\n",
       "      <td>NaN</td>\n",
       "      <td>NaN</td>\n",
       "      <td>5.000000</td>\n",
       "      <td>49.000000</td>\n",
       "      <td>NaN</td>\n",
       "      <td>NaN</td>\n",
       "      <td>NaN</td>\n",
       "      <td>NaN</td>\n",
       "      <td>NaN</td>\n",
       "    </tr>\n",
       "    <tr>\n",
       "      <th>max</th>\n",
       "      <td>NaN</td>\n",
       "      <td>2056.000000</td>\n",
       "      <td>NaN</td>\n",
       "      <td>NaN</td>\n",
       "      <td>NaN</td>\n",
       "      <td>NaN</td>\n",
       "      <td>21.000000</td>\n",
       "      <td>100.000000</td>\n",
       "      <td>NaN</td>\n",
       "      <td>NaN</td>\n",
       "      <td>NaN</td>\n",
       "      <td>NaN</td>\n",
       "      <td>NaN</td>\n",
       "    </tr>\n",
       "  </tbody>\n",
       "</table>\n",
       "</div>"
      ],
      "text/plain": [
       "       country          year           id banking_status location cell_phone  \\\n",
       "count    23510  23524.000000        23524          23488    23509      23513   \n",
       "unique       4           NaN         8735              2        2          2   \n",
       "top     Rwanda           NaN  uniqueid_38             No    Rural        Yes   \n",
       "freq      8735           NaN            4          20179    14338      17449   \n",
       "mean       NaN   2016.979000          NaN            NaN      NaN        NaN   \n",
       "std        NaN      0.899669          NaN            NaN      NaN        NaN   \n",
       "min        NaN   2016.000000          NaN            NaN      NaN        NaN   \n",
       "25%        NaN   2016.000000          NaN            NaN      NaN        NaN   \n",
       "50%        NaN   2017.000000          NaN            NaN      NaN        NaN   \n",
       "75%        NaN   2018.000000          NaN            NaN      NaN        NaN   \n",
       "max        NaN   2056.000000          NaN            NaN      NaN        NaN   \n",
       "\n",
       "        household_size           age  gender    rship_with_head  \\\n",
       "count     23496.000000  23490.000000   23490              23520   \n",
       "unique             NaN           NaN       2                  6   \n",
       "top                NaN           NaN  Female  Head of Household   \n",
       "freq               NaN           NaN   13859              12829   \n",
       "mean          3.681818     38.804300     NaN                NaN   \n",
       "std           2.279933     16.519996     NaN                NaN   \n",
       "min           0.000000     16.000000     NaN                NaN   \n",
       "25%           2.000000     26.000000     NaN                NaN   \n",
       "50%           3.000000     35.000000     NaN                NaN   \n",
       "75%           5.000000     49.000000     NaN                NaN   \n",
       "max          21.000000    100.000000     NaN                NaN   \n",
       "\n",
       "                 marital_status          education            job  \n",
       "count                     23492              23495          23494  \n",
       "unique                        5                  7             10  \n",
       "top     Married/Living together  Primary education  Self employed  \n",
       "freq                      10739              12775           6428  \n",
       "mean                        NaN                NaN            NaN  \n",
       "std                         NaN                NaN            NaN  \n",
       "min                         NaN                NaN            NaN  \n",
       "25%                         NaN                NaN            NaN  \n",
       "50%                         NaN                NaN            NaN  \n",
       "75%                         NaN                NaN            NaN  \n",
       "max                         NaN                NaN            NaN  "
      ]
     },
     "execution_count": 7,
     "metadata": {},
     "output_type": "execute_result"
    }
   ],
   "source": [
    "data.describe(include='all')"
   ]
  },
  {
   "cell_type": "markdown",
   "id": "va7Aa_YBPsp4",
   "metadata": {
    "id": "va7Aa_YBPsp4"
   },
   "source": [
    "From a visual inspection of the data, we see that majority of the respondents;\n",
    "\n",
    "Don't have bank accounts\n",
    "\n",
    "*   Don't have bank accounts.\n",
    "*   Are from Rwanda\n",
    "*   Live in rural areas\n",
    "*   Have cell phones\n",
    "*   Are female\n",
    "*   Are heads of households and married/living together\n",
    "*   Are self-employed\n",
    "*   Have primary education as their highest level of education\n",
    "\n",
    "Let's investigate the numeric variables abit more by plotting a histogram of each. But first, let's see if the dataset contains missing values"
   ]
  },
  {
   "cell_type": "markdown",
   "id": "FDdPJYnhKQ2y",
   "metadata": {
    "id": "FDdPJYnhKQ2y"
   },
   "source": [
    "## Checking missing data"
   ]
  },
  {
   "cell_type": "code",
   "execution_count": 8,
   "id": "zYuvfgEtKIZv",
   "metadata": {
    "colab": {
     "base_uri": "https://localhost:8080/"
    },
    "executionInfo": {
     "elapsed": 522,
     "status": "ok",
     "timestamp": 1654868468016,
     "user": {
      "displayName": "Meshack Mbonge",
      "userId": "14960026128969644465"
     },
     "user_tz": -180
    },
    "id": "zYuvfgEtKIZv",
    "outputId": "f95fea7b-d821-4dad-a664-956ea2339914"
   },
   "outputs": [
    {
     "data": {
      "text/plain": [
       "country            14\n",
       "year                0\n",
       "id                  0\n",
       "banking_status     36\n",
       "location           15\n",
       "cell_phone         11\n",
       "household_size     28\n",
       "age                34\n",
       "gender             34\n",
       "rship_with_head     4\n",
       "marital_status     32\n",
       "education          29\n",
       "job                30\n",
       "dtype: int64"
      ]
     },
     "execution_count": 8,
     "metadata": {},
     "output_type": "execute_result"
    }
   ],
   "source": [
    "# Checking for missing data\n",
    "data.isna().sum()"
   ]
  },
  {
   "cell_type": "markdown",
   "id": "39DAp8Q6Kr5r",
   "metadata": {
    "id": "39DAp8Q6Kr5r"
   },
   "source": [
    "Given that the percentage of missing values in each variable is small compared to the entire dataset, we shall remove missing data as employing an imputation strategy might affect the outcomes of our analysis.\n",
    "\n",
    "For example, if we decide to impute categorical variables with what the the majority of respondents said them we might increase any existing bias."
   ]
  },
  {
   "cell_type": "code",
   "execution_count": 9,
   "id": "nu0SRAMzKrSz",
   "metadata": {
    "colab": {
     "base_uri": "https://localhost:8080/"
    },
    "executionInfo": {
     "elapsed": 16,
     "status": "ok",
     "timestamp": 1654868468018,
     "user": {
      "displayName": "Meshack Mbonge",
      "userId": "14960026128969644465"
     },
     "user_tz": -180
    },
    "id": "nu0SRAMzKrSz",
    "outputId": "5d205341-5a65-4390-b73e-46612decd026"
   },
   "outputs": [
    {
     "data": {
      "text/plain": [
       "(23343, 13)"
      ]
     },
     "execution_count": 9,
     "metadata": {},
     "output_type": "execute_result"
    }
   ],
   "source": [
    "# Dropping rows with missing data\n",
    "data.dropna(inplace=True)\n",
    "\n",
    "# Checking the resulting dimensions of the data\n",
    "data.shape"
   ]
  },
  {
   "cell_type": "markdown",
   "id": "NQRGAJf2K-XE",
   "metadata": {
    "id": "NQRGAJf2K-XE"
   },
   "source": [
    "We are left with 23,357 rows. This is still a significant sample size to analyse. We shall do this by performing EDA i.e answering some questions to understand the data,\n",
    "\n",
    "The UniqueID column is nothing more but a numbering column. We shall drop it and rely on our default index."
   ]
  },
  {
   "cell_type": "code",
   "execution_count": 10,
   "id": "cfYIbdKHLgXR",
   "metadata": {
    "colab": {
     "base_uri": "https://localhost:8080/",
     "height": 143
    },
    "executionInfo": {
     "elapsed": 19,
     "status": "ok",
     "timestamp": 1654868468025,
     "user": {
      "displayName": "Meshack Mbonge",
      "userId": "14960026128969644465"
     },
     "user_tz": -180
    },
    "id": "cfYIbdKHLgXR",
    "outputId": "c92c1537-79d0-4283-998a-ff1005609072"
   },
   "outputs": [
    {
     "data": {
      "text/html": [
       "<div>\n",
       "<style scoped>\n",
       "    .dataframe tbody tr th:only-of-type {\n",
       "        vertical-align: middle;\n",
       "    }\n",
       "\n",
       "    .dataframe tbody tr th {\n",
       "        vertical-align: top;\n",
       "    }\n",
       "\n",
       "    .dataframe thead th {\n",
       "        text-align: right;\n",
       "    }\n",
       "</style>\n",
       "<table border=\"1\" class=\"dataframe\">\n",
       "  <thead>\n",
       "    <tr style=\"text-align: right;\">\n",
       "      <th></th>\n",
       "      <th>country</th>\n",
       "      <th>year</th>\n",
       "      <th>banking_status</th>\n",
       "      <th>location</th>\n",
       "      <th>cell_phone</th>\n",
       "      <th>household_size</th>\n",
       "      <th>age</th>\n",
       "      <th>gender</th>\n",
       "      <th>rship_with_head</th>\n",
       "      <th>marital_status</th>\n",
       "      <th>education</th>\n",
       "      <th>job</th>\n",
       "    </tr>\n",
       "  </thead>\n",
       "  <tbody>\n",
       "    <tr>\n",
       "      <th>0</th>\n",
       "      <td>Kenya</td>\n",
       "      <td>2018</td>\n",
       "      <td>Yes</td>\n",
       "      <td>Rural</td>\n",
       "      <td>Yes</td>\n",
       "      <td>3.0</td>\n",
       "      <td>24.0</td>\n",
       "      <td>Female</td>\n",
       "      <td>Spouse</td>\n",
       "      <td>Married/Living together</td>\n",
       "      <td>Secondary education</td>\n",
       "      <td>Self employed</td>\n",
       "    </tr>\n",
       "    <tr>\n",
       "      <th>1</th>\n",
       "      <td>Kenya</td>\n",
       "      <td>2018</td>\n",
       "      <td>No</td>\n",
       "      <td>Rural</td>\n",
       "      <td>No</td>\n",
       "      <td>5.0</td>\n",
       "      <td>70.0</td>\n",
       "      <td>Female</td>\n",
       "      <td>Head of Household</td>\n",
       "      <td>Widowed</td>\n",
       "      <td>No formal education</td>\n",
       "      <td>Government Dependent</td>\n",
       "    </tr>\n",
       "    <tr>\n",
       "      <th>2</th>\n",
       "      <td>Kenya</td>\n",
       "      <td>2018</td>\n",
       "      <td>Yes</td>\n",
       "      <td>Urban</td>\n",
       "      <td>Yes</td>\n",
       "      <td>5.0</td>\n",
       "      <td>26.0</td>\n",
       "      <td>Male</td>\n",
       "      <td>Other relative</td>\n",
       "      <td>Single/Never Married</td>\n",
       "      <td>Vocational/Specialised training</td>\n",
       "      <td>Self employed</td>\n",
       "    </tr>\n",
       "  </tbody>\n",
       "</table>\n",
       "</div>"
      ],
      "text/plain": [
       "  country  year banking_status location cell_phone  household_size   age  \\\n",
       "0   Kenya  2018            Yes    Rural        Yes             3.0  24.0   \n",
       "1   Kenya  2018             No    Rural         No             5.0  70.0   \n",
       "2   Kenya  2018            Yes    Urban        Yes             5.0  26.0   \n",
       "\n",
       "   gender    rship_with_head           marital_status  \\\n",
       "0  Female             Spouse  Married/Living together   \n",
       "1  Female  Head of Household                  Widowed   \n",
       "2    Male     Other relative     Single/Never Married   \n",
       "\n",
       "                         education                   job  \n",
       "0              Secondary education         Self employed  \n",
       "1              No formal education  Government Dependent  \n",
       "2  Vocational/Specialised training         Self employed  "
      ]
     },
     "execution_count": 10,
     "metadata": {},
     "output_type": "execute_result"
    }
   ],
   "source": [
    "data.drop(['id'], axis=1, inplace=True)\n",
    "\n",
    "data.head(3)"
   ]
  },
  {
   "cell_type": "markdown",
   "id": "O8EQvgpFjeqM",
   "metadata": {
    "id": "O8EQvgpFjeqM"
   },
   "source": [
    "## Univariate Analysis of numerical variables."
   ]
  },
  {
   "cell_type": "code",
   "execution_count": 11,
   "id": "4FXVO2D8MX9l",
   "metadata": {
    "colab": {
     "base_uri": "https://localhost:8080/",
     "height": 499
    },
    "executionInfo": {
     "elapsed": 624,
     "status": "ok",
     "timestamp": 1654868468632,
     "user": {
      "displayName": "Meshack Mbonge",
      "userId": "14960026128969644465"
     },
     "user_tz": -180
    },
    "id": "4FXVO2D8MX9l",
    "outputId": "3c1cea8f-834e-4c2c-f298-bc7ca2ecfe1f"
   },
   "outputs": [
    {
     "data": {
      "image/png": "[encoded data removed]",
      "text/plain": [
       "<Figure size 864x576 with 4 Axes>"
      ]
     },
     "metadata": {
      "needs_background": "light"
     },
     "output_type": "display_data"
    }
   ],
   "source": [
    "# Histograms of numeric variables\n",
    "data.hist(bins=5, figsize=(12,8))\n",
    "plt.show()"
   ]
  },
  {
   "cell_type": "code",
   "execution_count": 12,
   "id": "Mnxc8L10aFoS",
   "metadata": {
    "colab": {
     "base_uri": "https://localhost:8080/"
    },
    "executionInfo": {
     "elapsed": 28,
     "status": "ok",
     "timestamp": 1654868468635,
     "user": {
      "displayName": "Meshack Mbonge",
      "userId": "14960026128969644465"
     },
     "user_tz": -180
    },
    "id": "Mnxc8L10aFoS",
    "outputId": "8fcc4394-ab0d-4ace-b71b-daf4c2d9d8a9"
   },
   "outputs": [
    {
     "name": "stdout",
     "output_type": "stream",
     "text": [
      "HH Size Skewness: 0.9740460873321882\n",
      "Age Skewness: 0.8406077264066741\n"
     ]
    }
   ],
   "source": [
    "# Investigating skewness\n",
    "from scipy.stats import skew\n",
    "\n",
    "print('HH Size Skewness:', skew(data['household_size'].dropna()))\n",
    "\n",
    "print('Age Skewness:', skew(data['age'].dropna()))"
   ]
  },
  {
   "cell_type": "markdown",
   "id": "3K9cA3e8RHer",
   "metadata": {
    "id": "3K9cA3e8RHer"
   },
   "source": [
    "*   We see that household size and age are both moderately skewed to the right with their means being greater than the median and mode.\n",
    "*   Additionally we see the presence few outliers. Lets investigate these using the IQR method and boxplots."
   ]
  },
  {
   "cell_type": "markdown",
   "id": "gQkHpwt0skB1",
   "metadata": {
    "id": "gQkHpwt0skB1"
   },
   "source": [
    "### Detecting Outliers"
   ]
  },
  {
   "cell_type": "code",
   "execution_count": 13,
   "id": "54I1bkUqbkj3",
   "metadata": {
    "colab": {
     "base_uri": "https://localhost:8080/",
     "height": 425
    },
    "executionInfo": {
     "elapsed": 24,
     "status": "ok",
     "timestamp": 1654868468639,
     "user": {
      "displayName": "Meshack Mbonge",
      "userId": "14960026128969644465"
     },
     "user_tz": -180
    },
    "id": "54I1bkUqbkj3",
    "outputId": "1321d847-d62a-462c-a2e2-238be906c5f0"
   },
   "outputs": [
    {
     "name": "stdout",
     "output_type": "stream",
     "text": [
      "213     2029\n",
      "308     2056\n",
      "7014    2039\n",
      "Name: year, dtype: int64\n"
     ]
    },
    {
     "data": {
      "image/png": "[encoded data removed]",
      "text/plain": [
       "<Figure size 720x360 with 1 Axes>"
      ]
     },
     "metadata": {
      "needs_background": "light"
     },
     "output_type": "display_data"
    }
   ],
   "source": [
    "# Finding Outliers in Year\n",
    "\n",
    "# using IQR\n",
    "\n",
    "def find_outliers_IQR(df):\n",
    "\n",
    "   q1=df.quantile(0.25)\n",
    "\n",
    "   q3=df.quantile(0.75)\n",
    "\n",
    "   IQR=q3-q1\n",
    "\n",
    "   outliers = df[((df<(q1-1.5*IQR)) | (df>(q3+1.5*IQR)))]\n",
    "\n",
    "   return outliers\n",
    "\n",
    "print(find_outliers_IQR(data['year']))\n",
    "\n",
    "#using boxplot\n",
    "\n",
    "plt.figure(figsize=(10,5))\n",
    "sns.boxplot(x=data['household_size'])\n",
    "plt.title('Boxplot of Year')\n",
    "plt.show()"
   ]
  },
  {
   "cell_type": "markdown",
   "id": "MlkUX70XgGmH",
   "metadata": {
    "id": "MlkUX70XgGmH"
   },
   "source": [
    "There are 3 outliers in the Year variable. We shall need to remove these as they record information from the future which is most likely an error."
   ]
  },
  {
   "cell_type": "code",
   "execution_count": 14,
   "id": "JwEfKPZqetIx",
   "metadata": {
    "colab": {
     "base_uri": "https://localhost:8080/",
     "height": 369
    },
    "executionInfo": {
     "elapsed": 617,
     "status": "ok",
     "timestamp": 1654868469237,
     "user": {
      "displayName": "Meshack Mbonge",
      "userId": "14960026128969644465"
     },
     "user_tz": -180
    },
    "id": "JwEfKPZqetIx",
    "outputId": "fbdc579d-401f-43b0-f0e4-6d8544803249"
   },
   "outputs": [
    {
     "name": "stdout",
     "output_type": "stream",
     "text": [
      "10.0\n"
     ]
    },
    {
     "data": {
      "image/png": "[encoded data removed]",
      "text/plain": [
       "<Figure size 720x360 with 1 Axes>"
      ]
     },
     "metadata": {
      "needs_background": "light"
     },
     "output_type": "display_data"
    }
   ],
   "source": [
    "# Finding outliers in Household size\n",
    "\n",
    "print(find_outliers_IQR(data['household_size']).min())\n",
    "\n",
    "#using boxplot\n",
    "\n",
    "plt.figure(figsize=(10,5))\n",
    "sns.boxplot(x=data['household_size'])\n",
    "plt.title('Boxplot of Household Size')\n",
    "plt.show()"
   ]
  },
  {
   "cell_type": "markdown",
   "id": "gKcdfJgyiglu",
   "metadata": {
    "id": "gKcdfJgyiglu"
   },
   "source": [
    "The household size variable contains outliers to the right with the cut-off point being observations equal to or greater than 10. However, we shall not remove or impute these outliers as they may a reflection on real world information and removal or imputation may lead to information loss."
   ]
  },
  {
   "cell_type": "code",
   "execution_count": 15,
   "id": "PkvrvvS7jxnS",
   "metadata": {
    "colab": {
     "base_uri": "https://localhost:8080/",
     "height": 368
    },
    "executionInfo": {
     "elapsed": 46,
     "status": "ok",
     "timestamp": 1654868469241,
     "user": {
      "displayName": "Meshack Mbonge",
      "userId": "14960026128969644465"
     },
     "user_tz": -180
    },
    "id": "PkvrvvS7jxnS",
    "outputId": "0ad06946-0304-4b08-a7cc-dec9a335db1b"
   },
   "outputs": [
    {
     "name": "stdout",
     "output_type": "stream",
     "text": [
      "84.0\n"
     ]
    },
    {
     "data": {
      "image/png": "[encoded data removed]",
      "text/plain": [
       "<Figure size 720x360 with 1 Axes>"
      ]
     },
     "metadata": {
      "needs_background": "light"
     },
     "output_type": "display_data"
    }
   ],
   "source": [
    "# Finding outliers in Age\n",
    "\n",
    "print(find_outliers_IQR(data['age']).min())\n",
    "\n",
    "#using boxplot\n",
    "\n",
    "plt.figure(figsize=(10,5))\n",
    "sns.boxplot(x=data['age'])\n",
    "plt.title('Boxplot of Age')\n",
    "plt.show()"
   ]
  },
  {
   "cell_type": "markdown",
   "id": "dz38ZU2DlPOg",
   "metadata": {
    "id": "dz38ZU2DlPOg"
   },
   "source": [
    "Similarly, the Age variable contains outliers to the right with the cut-off point being observation equal to or greater than 84yrs. We shall retain these outliers to avoid information loss especially in terms financial inclusion among people of an older age group."
   ]
  },
  {
   "cell_type": "code",
   "execution_count": null,
   "id": "RJiXkdryK9q0",
   "metadata": {
    "executionInfo": {
     "elapsed": 33,
     "status": "ok",
     "timestamp": 1654868469242,
     "user": {
      "displayName": "Meshack Mbonge",
      "userId": "14960026128969644465"
     },
     "user_tz": -180
    },
    "id": "RJiXkdryK9q0"
   },
   "outputs": [],
   "source": []
  },
  {
   "cell_type": "markdown",
   "id": "A_C2UOikl82f",
   "metadata": {
    "id": "A_C2UOikl82f"
   },
   "source": [
    "## Univariate analysis of target variable.\n",
    "\n",
    "Here, we want to investigate how the target variable is distributed across the dataset. We shall use a barplot/countplot to investigate this"
   ]
  },
  {
   "cell_type": "code",
   "execution_count": 16,
   "id": "ntIUmYein8bJ",
   "metadata": {
    "colab": {
     "base_uri": "https://localhost:8080/",
     "height": 405
    },
    "executionInfo": {
     "elapsed": 33,
     "status": "ok",
     "timestamp": 1654868469243,
     "user": {
      "displayName": "Meshack Mbonge",
      "userId": "14960026128969644465"
     },
     "user_tz": -180
    },
    "id": "ntIUmYein8bJ",
    "outputId": "445f74d9-b76a-460d-97d3-23404db8c3c7"
   },
   "outputs": [
    {
     "name": "stdout",
     "output_type": "stream",
     "text": [
      "No     0.858759\n",
      "Yes    0.141241\n",
      "Name: banking_status, dtype: float64\n"
     ]
    },
    {
     "data": {
      "image/png": "[encoded data removed]",
      "text/plain": [
       "<Figure size 720x360 with 1 Axes>"
      ]
     },
     "metadata": {
      "needs_background": "light"
     },
     "output_type": "display_data"
    }
   ],
   "source": [
    "# Proportion of observation with a bank account vs without\n",
    "print(data['banking_status'].value_counts(normalize=True))\n",
    "\n",
    "# Countplot of Banking Status\n",
    "plt.figure(figsize=(10,5))\n",
    "sns.countplot(x='banking_status', data=data)\n",
    "plt.title('Barplot of Bankin Status')\n",
    "plt.xlabel('Do you have a bank account?')\n",
    "plt.ylabel('Number of Observations')\n",
    "plt.show()"
   ]
  },
  {
   "cell_type": "markdown",
   "id": "jnxPsbMurxiq",
   "metadata": {
    "id": "jnxPsbMurxiq"
   },
   "source": [
    "We see that **86%** of observations are recorded as not having bank accounts while only 14% have bank accounts."
   ]
  },
  {
   "cell_type": "markdown",
   "id": "HX19aRzczH2E",
   "metadata": {
    "id": "HX19aRzczH2E"
   },
   "source": [
    "## Bivariate analysis of independent categorical variables."
   ]
  },
  {
   "cell_type": "code",
   "execution_count": 17,
   "id": "ELFfOqdLzCdC",
   "metadata": {
    "colab": {
     "base_uri": "https://localhost:8080/",
     "height": 442
    },
    "executionInfo": {
     "elapsed": 766,
     "status": "ok",
     "timestamp": 1654868469983,
     "user": {
      "displayName": "Meshack Mbonge",
      "userId": "14960026128969644465"
     },
     "user_tz": -180
    },
    "id": "ELFfOqdLzCdC",
    "outputId": "16e011b9-ac52-429e-d8d2-f78cee22f4c9"
   },
   "outputs": [
    {
     "name": "stdout",
     "output_type": "stream",
     "text": [
      "Rwanda      0.372017\n",
      "Tanzania    0.278456\n",
      "Kenya       0.259778\n",
      "Uganda      0.089749\n",
      "Name: country, dtype: float64\n"
     ]
    },
    {
     "data": {
      "image/png": "[encoded data removed]",
      "text/plain": [
       "<Figure size 720x360 with 1 Axes>"
      ]
     },
     "metadata": {
      "needs_background": "light"
     },
     "output_type": "display_data"
    }
   ],
   "source": [
    "# Proportion of observations from different countries\n",
    "print(data['country'].value_counts(normalize=True))\n",
    "\n",
    "# Countplot of Country\n",
    "plt.figure(figsize=(10,5))\n",
    "sns.countplot(x='country', data=data, hue='banking_status')\n",
    "plt.title('Barplot of Countries and Banking Status')\n",
    "plt.xlabel('Country')\n",
    "plt.ylabel('Number of Observations')\n",
    "plt.show()"
   ]
  },
  {
   "cell_type": "markdown",
   "id": "wPpqYnuSzdqW",
   "metadata": {
    "id": "wPpqYnuSzdqW"
   },
   "source": [
    " - Observations recorded in Rwanda make up the majority of observations at 37% with Uganda being the least represented country at only 9%. Addionally, number of people with bank accounts is higher in Kenya and Rwanda compared to Tanzania and Uganda."
   ]
  },
  {
   "cell_type": "code",
   "execution_count": 18,
   "id": "Dxdo0SvE0b_x",
   "metadata": {
    "colab": {
     "base_uri": "https://localhost:8080/",
     "height": 405
    },
    "executionInfo": {
     "elapsed": 20,
     "status": "ok",
     "timestamp": 1654868469988,
     "user": {
      "displayName": "Meshack Mbonge",
      "userId": "14960026128969644465"
     },
     "user_tz": -180
    },
    "id": "Dxdo0SvE0b_x",
    "outputId": "94da7df5-15a8-43c2-b5c5-a44a8d19f450"
   },
   "outputs": [
    {
     "name": "stdout",
     "output_type": "stream",
     "text": [
      "Rural    0.611061\n",
      "Urban    0.388939\n",
      "Name: location, dtype: float64\n"
     ]
    },
    {
     "data": {
      "image/png": "[encoded data removed]",
      "text/plain": [
       "<Figure size 720x360 with 1 Axes>"
      ]
     },
     "metadata": {
      "needs_background": "light"
     },
     "output_type": "display_data"
    }
   ],
   "source": [
    "# Proportion of observations from different location categories\n",
    "print(data['location'].value_counts(normalize=True))\n",
    "\n",
    "# Countplot of Location\n",
    "plt.figure(figsize=(10,5))\n",
    "sns.countplot(x='location', data=data, hue='banking_status')\n",
    "plt.title('Barplot of Location and Banking Status')\n",
    "plt.xlabel('Location')\n",
    "plt.ylabel('Number of Observations')\n",
    "plt.show()"
   ]
  },
  {
   "cell_type": "markdown",
   "id": "MnXAaD2X6VkP",
   "metadata": {
    "id": "MnXAaD2X6VkP"
   },
   "source": [
    "\n",
    "\n",
    "*   61% of observations were recorded among people living in rural areas and 39% from urban areas. Additionally, the\n",
    " proportion on people with bank accounts living in urban areas is slightly higher than in and rural areas.\n",
    "\n"
   ]
  },
  {
   "cell_type": "code",
   "execution_count": 19,
   "id": "-KHOTDBs0uSv",
   "metadata": {
    "colab": {
     "base_uri": "https://localhost:8080/",
     "height": 405
    },
    "executionInfo": {
     "elapsed": 698,
     "status": "ok",
     "timestamp": 1654868470673,
     "user": {
      "displayName": "Meshack Mbonge",
      "userId": "14960026128969644465"
     },
     "user_tz": -180
    },
    "id": "-KHOTDBs0uSv",
    "outputId": "279ff330-77fa-46c6-b423-ea8449837eeb"
   },
   "outputs": [
    {
     "name": "stdout",
     "output_type": "stream",
     "text": [
      "Yes    0.742578\n",
      "No     0.257422\n",
      "Name: cell_phone, dtype: float64\n"
     ]
    },
    {
     "data": {
      "image/png": "[encoded data removed]",
      "text/plain": [
       "<Figure size 720x360 with 1 Axes>"
      ]
     },
     "metadata": {
      "needs_background": "light"
     },
     "output_type": "display_data"
    }
   ],
   "source": [
    "# Proportion of observations with cell phones vs without\n",
    "print(data['cell_phone'].value_counts(normalize=True))\n",
    "\n",
    "# Countplot of Cell Phone Ownership\n",
    "plt.figure(figsize=(10,5))\n",
    "sns.countplot(x='cell_phone', data=data, hue='banking_status')\n",
    "plt.title('Barplot of Cell Phone Usage and Banking Status')\n",
    "plt.xlabel('Cell Phone Ownership Status')\n",
    "plt.ylabel('Number of Observations')\n",
    "plt.show()"
   ]
  },
  {
   "cell_type": "markdown",
   "id": "gJ2UZt4X6lof",
   "metadata": {
    "id": "gJ2UZt4X6lof"
   },
   "source": [
    "\n",
    "\n",
    "*  74% of observation were recorded from people with cellphones and 26% from those without. A significant proportion of people with mobile phones have bank accounts compared to those without mobile phones.\n",
    "\n"
   ]
  },
  {
   "cell_type": "code",
   "execution_count": 20,
   "id": "3tXaPK4f1haF",
   "metadata": {
    "colab": {
     "base_uri": "https://localhost:8080/",
     "height": 405
    },
    "executionInfo": {
     "elapsed": 50,
     "status": "ok",
     "timestamp": 1654868470675,
     "user": {
      "displayName": "Meshack Mbonge",
      "userId": "14960026128969644465"
     },
     "user_tz": -180
    },
    "id": "3tXaPK4f1haF",
    "outputId": "74ba8313-2cc1-4223-f77c-b7746d81f4b9"
   },
   "outputs": [
    {
     "name": "stdout",
     "output_type": "stream",
     "text": [
      "Female    0.58977\n",
      "Male      0.41023\n",
      "Name: gender, dtype: float64\n"
     ]
    },
    {
     "data": {
      "image/png": "[encoded data removed]",
      "text/plain": [
       "<Figure size 720x360 with 1 Axes>"
      ]
     },
     "metadata": {
      "needs_background": "light"
     },
     "output_type": "display_data"
    }
   ],
   "source": [
    "# Proportion of observations from different genders\n",
    "print(data['gender'].value_counts(normalize=True))\n",
    "\n",
    "# Countplot of Gender\n",
    "plt.figure(figsize=(10,5))\n",
    "sns.countplot(x='gender', data=data, hue='banking_status')\n",
    "plt.title('Barplot of Gender and Banking Status')\n",
    "plt.xlabel('Gender')\n",
    "plt.ylabel('Number of Observations')\n",
    "plt.show()"
   ]
  },
  {
   "cell_type": "markdown",
   "id": "1EhM6wEK6yEL",
   "metadata": {
    "id": "1EhM6wEK6yEL"
   },
   "source": [
    "\n",
    "\n",
    "*   59% of observations were recorded among males and 41% among females. In terms of having bank accounts, there is a slight diffence between male and females with bank accounts with the former being slightly higher.\n",
    "\n"
   ]
  },
  {
   "cell_type": "code",
   "execution_count": 21,
   "id": "LuH-omVg1yq3",
   "metadata": {
    "colab": {
     "base_uri": "https://localhost:8080/",
     "height": 480
    },
    "executionInfo": {
     "elapsed": 47,
     "status": "ok",
     "timestamp": 1654868470678,
     "user": {
      "displayName": "Meshack Mbonge",
      "userId": "14960026128969644465"
     },
     "user_tz": -180
    },
    "id": "LuH-omVg1yq3",
    "outputId": "95bd9bf5-d1fd-4100-f7e0-709945c07600"
   },
   "outputs": [
    {
     "name": "stdout",
     "output_type": "stream",
     "text": [
      "Head of Household      0.545345\n",
      "Spouse                 0.277214\n",
      "Child                  0.095146\n",
      "Parent                 0.045795\n",
      "Other relative         0.028403\n",
      "Other non-relatives    0.008097\n",
      "Name: rship_with_head, dtype: float64\n"
     ]
    },
    {
     "data": {
      "image/png": "[encoded data removed]",
      "text/plain": [
       "<Figure size 720x360 with 1 Axes>"
      ]
     },
     "metadata": {
      "needs_background": "light"
     },
     "output_type": "display_data"
    }
   ],
   "source": [
    "# Proportion of observations by relationship with the head of the household\n",
    "print(data['rship_with_head'].value_counts(normalize=True))\n",
    "\n",
    "# Countplot of rship_with_head\n",
    "plt.figure(figsize=(10,5))\n",
    "sns.countplot(x='rship_with_head', data=data, hue='banking_status')\n",
    "plt.title('Barplot of rship_with_head and Banking Status')\n",
    "plt.xlabel('rship_with_head')\n",
    "plt.ylabel('Number of Observations')\n",
    "plt.show()"
   ]
  },
  {
   "cell_type": "markdown",
   "id": "BUfliOO76-7r",
   "metadata": {
    "id": "BUfliOO76-7r"
   },
   "source": [
    "\n",
    "\n",
    "*   55% of observations were recorded amond heads of households while 28% were recorded among spouses. Heads of household and spouse constitute the majority of bank account holders compared to children, parents, relatives and non-relatives.\n",
    "\n",
    "*   Generally, heads of households are seen to be the majority on bank account holders in our dataset.\n",
    "\n",
    "\n",
    "\n",
    "\n",
    "\n"
   ]
  },
  {
   "cell_type": "code",
   "execution_count": 22,
   "id": "FXQ3BMoe2Ngl",
   "metadata": {
    "colab": {
     "base_uri": "https://localhost:8080/",
     "height": 462
    },
    "executionInfo": {
     "elapsed": 980,
     "status": "ok",
     "timestamp": 1654868471620,
     "user": {
      "displayName": "Meshack Mbonge",
      "userId": "14960026128969644465"
     },
     "user_tz": -180
    },
    "id": "FXQ3BMoe2Ngl",
    "outputId": "a629997a-7f8c-4edc-aab4-8a44e538f9d5"
   },
   "outputs": [
    {
     "name": "stdout",
     "output_type": "stream",
     "text": [
      "Married/Living together    0.458382\n",
      "Single/Never Married       0.338560\n",
      "Widowed                    0.114938\n",
      "Divorced/Seperated         0.087778\n",
      "Dont know                  0.000343\n",
      "Name: marital_status, dtype: float64\n"
     ]
    },
    {
     "data": {
      "image/png": "[encoded data removed]",
      "text/plain": [
       "<Figure size 720x360 with 1 Axes>"
      ]
     },
     "metadata": {
      "needs_background": "light"
     },
     "output_type": "display_data"
    }
   ],
   "source": [
    "# Proportion of observations by marital status\n",
    "print(data['marital_status'].value_counts(normalize=True))\n",
    "\n",
    "# Countplot of rship_with_head\n",
    "plt.figure(figsize=(10,5))\n",
    "sns.countplot(x='marital_status', data=data, hue='banking_status')\n",
    "plt.title('Barplot of Marital Status and Banking status')\n",
    "plt.xlabel('marital_status')\n",
    "plt.ylabel('Number of Observations')\n",
    "plt.show()"
   ]
  },
  {
   "cell_type": "markdown",
   "id": "0C2BX94U7dHa",
   "metadata": {
    "id": "0C2BX94U7dHa"
   },
   "source": [
    "\n",
    "\n",
    "*   46% of observations were recorded among married or people living together while 34% of observation among single people. Additionally, the proportion on people with bank accounts is higher among those who are married or living together compared to the rest of the categories.\n",
    "\n"
   ]
  },
  {
   "cell_type": "code",
   "execution_count": 23,
   "id": "1VMFRtgg2xeL",
   "metadata": {
    "colab": {
     "base_uri": "https://localhost:8080/",
     "height": 498
    },
    "executionInfo": {
     "elapsed": 90,
     "status": "ok",
     "timestamp": 1654868471628,
     "user": {
      "displayName": "Meshack Mbonge",
      "userId": "14960026128969644465"
     },
     "user_tz": -180
    },
    "id": "1VMFRtgg2xeL",
    "outputId": "eef7e706-9330-4b4a-db02-61fbfeab34b0"
   },
   "outputs": [
    {
     "name": "stdout",
     "output_type": "stream",
     "text": [
      "Primary education                  0.543589\n",
      "No formal education                0.191364\n",
      "Secondary education                0.180225\n",
      "Tertiary education                 0.049008\n",
      "Vocational/Specialised training    0.034314\n",
      "6                                  0.001157\n",
      "Other/Dont know/RTA                0.000343\n",
      "Name: education, dtype: float64\n"
     ]
    },
    {
     "data": {
      "image/png": "[encoded data removed]",
      "text/plain": [
       "<Figure size 1440x360 with 1 Axes>"
      ]
     },
     "metadata": {
      "needs_background": "light"
     },
     "output_type": "display_data"
    }
   ],
   "source": [
    "# Proportion of observations by education level\n",
    "print(data['education'].value_counts(normalize=True))\n",
    "\n",
    "# Countplot of education level\n",
    "plt.figure(figsize=(20,5))\n",
    "sns.countplot(x='education', data=data, hue='banking_status')\n",
    "plt.title('Barplot of education level and banking status')\n",
    "plt.xlabel('education level')\n",
    "plt.ylabel('Number of Observations')\n",
    "plt.show()"
   ]
  },
  {
   "cell_type": "markdown",
   "id": "3sQxj9tT72JT",
   "metadata": {
    "id": "3sQxj9tT72JT"
   },
   "source": [
    "\n",
    "\n",
    "*   54% of observations were recorded among people with Primary school level education as their highest level of education while 19% have no formal education. Additionally, people with primary and secondary education as their highest level of education constitute the majority of those with bank accounts compared to those with tertiary, vocational or no formal education. \n",
    "\n"
   ]
  },
  {
   "cell_type": "code",
   "execution_count": 24,
   "id": "rg_D7fcz3yQJ",
   "metadata": {
    "colab": {
     "base_uri": "https://localhost:8080/",
     "height": 553
    },
    "executionInfo": {
     "elapsed": 895,
     "status": "ok",
     "timestamp": 1654868472457,
     "user": {
      "displayName": "Meshack Mbonge",
      "userId": "14960026128969644465"
     },
     "user_tz": -180
    },
    "id": "rg_D7fcz3yQJ",
    "outputId": "3076011e-9079-47a4-c2c6-8649d80b7c05"
   },
   "outputs": [
    {
     "name": "stdout",
     "output_type": "stream",
     "text": [
      "Self employed                   0.272501\n",
      "Informally employed             0.237759\n",
      "Farming and Fishing             0.232275\n",
      "Remittance Dependent            0.107484\n",
      "Other Income                    0.046138\n",
      "Formally employed Private       0.044896\n",
      "No Income                       0.026475\n",
      "Formally employed Government    0.016536\n",
      "Government Dependent            0.010581\n",
      "Dont Know/Refuse to answer      0.005355\n",
      "Name: job, dtype: float64\n"
     ]
    },
    {
     "data": {
      "image/png": "[encoded data removed]",
      "text/plain": [
       "<Figure size 2016x360 with 1 Axes>"
      ]
     },
     "metadata": {
      "needs_background": "light"
     },
     "output_type": "display_data"
    }
   ],
   "source": [
    "# Proportion of observations by employment status\n",
    "print(data['job'].value_counts(normalize=True))\n",
    "\n",
    "# Countplot of employment status\n",
    "plt.figure(figsize=(28,5))\n",
    "sns.countplot(x='job', data=data, hue='banking_status')\n",
    "plt.title('Barplot of employment status and banking status')\n",
    "plt.xlabel('employment status')\n",
    "plt.ylabel('Number of Observations')\n",
    "plt.show()"
   ]
  },
  {
   "cell_type": "markdown",
   "id": "7tZrbYPH8JXy",
   "metadata": {
    "id": "7tZrbYPH8JXy"
   },
   "source": [
    "\n",
    "\n",
    "*   With the exception of those formally employed in the private sector, majority of recorded observations indicated that people have no access to bank accounts regardless of their employment status.\n",
    "\n",
    "* Morever, self-employed people constitute the majority of the recorded observations, followed by informally employed and those engaged in farming and fishing respectively.\n",
    "\n",
    "\n"
   ]
  },
  {
   "cell_type": "markdown",
   "id": "8Mw3Tu-C3xhF",
   "metadata": {
    "id": "8Mw3Tu-C3xhF"
   },
   "source": [
    "## Multivariate Analysis\n",
    "\n",
    "**Principal Component Analysis (PCA)**\n",
    "\n",
    "PCA is a dimensionality reduction technique that is used to transform large datasets into a smaller number of variables that explain most of the variability in the said dataset.\n",
    "\n",
    "It does this by going through the following steps; \n",
    "\n",
    "**a.** Standardizing the variables so that each variable contributes equally to the analysis by transforming them into the same scale. This step is very important and PCA is very sensitive to variances sucha that if there are large differences between the ranges of initial variables, those variables with larger ranges will dominate over those with small ranges.\n",
    "\n",
    "**b.** Calculates the covariance of each variable to understand how the input variables relate with each other. \n",
    "\n",
    "**c.** Computes eigenvectors and eigenvalues which give amount of variance carried in each Principal Component.\n",
    "\n",
    "**d.** Form a feature vector which we shall use to decide how many features we shall use given the degree to which each feature explains the variability of the dataset.\n",
    "\n",
    "\n",
    "The features in our dataset are all categorical. PCA will only be possible if we have numerical values. As such we shall start by converting our categorical features to numeric form."
   ]
  },
  {
   "cell_type": "code",
   "execution_count": 25,
   "id": "pusrKULlXtQN",
   "metadata": {
    "executionInfo": {
     "elapsed": 104,
     "status": "ok",
     "timestamp": 1654868472467,
     "user": {
      "displayName": "Meshack Mbonge",
      "userId": "14960026128969644465"
     },
     "user_tz": -180
    },
    "id": "pusrKULlXtQN"
   },
   "outputs": [],
   "source": [
    "# Transforming Year to categorical values\n",
    "\n",
    "data['year'] = data['year'].astype(str)"
   ]
  },
  {
   "cell_type": "code",
   "execution_count": 26,
   "id": "A-q598JmhcGF",
   "metadata": {
    "colab": {
     "base_uri": "https://localhost:8080/",
     "height": 314
    },
    "executionInfo": {
     "elapsed": 106,
     "status": "ok",
     "timestamp": 1654868472473,
     "user": {
      "displayName": "Meshack Mbonge",
      "userId": "14960026128969644465"
     },
     "user_tz": -180
    },
    "id": "A-q598JmhcGF",
    "outputId": "2b447fdf-e3f0-4a3d-d15e-af626e0e4c44"
   },
   "outputs": [
    {
     "data": {
      "text/html": [
       "<div>\n",
       "<style scoped>\n",
       "    .dataframe tbody tr th:only-of-type {\n",
       "        vertical-align: middle;\n",
       "    }\n",
       "\n",
       "    .dataframe tbody tr th {\n",
       "        vertical-align: top;\n",
       "    }\n",
       "\n",
       "    .dataframe thead th {\n",
       "        text-align: right;\n",
       "    }\n",
       "</style>\n",
       "<table border=\"1\" class=\"dataframe\">\n",
       "  <thead>\n",
       "    <tr style=\"text-align: right;\">\n",
       "      <th></th>\n",
       "      <th>age</th>\n",
       "      <th>household_size</th>\n",
       "      <th>year_2016</th>\n",
       "      <th>year_2017</th>\n",
       "      <th>year_2018</th>\n",
       "      <th>year_2029</th>\n",
       "      <th>year_2039</th>\n",
       "      <th>year_2056</th>\n",
       "      <th>country_Kenya</th>\n",
       "      <th>country_Rwanda</th>\n",
       "      <th>...</th>\n",
       "      <th>job_Dont Know/Refuse to answer</th>\n",
       "      <th>job_Farming and Fishing</th>\n",
       "      <th>job_Formally employed Government</th>\n",
       "      <th>job_Formally employed Private</th>\n",
       "      <th>job_Government Dependent</th>\n",
       "      <th>job_Informally employed</th>\n",
       "      <th>job_No Income</th>\n",
       "      <th>job_Other Income</th>\n",
       "      <th>job_Remittance Dependent</th>\n",
       "      <th>job_Self employed</th>\n",
       "    </tr>\n",
       "  </thead>\n",
       "  <tbody>\n",
       "    <tr>\n",
       "      <th>0</th>\n",
       "      <td>24.0</td>\n",
       "      <td>3.0</td>\n",
       "      <td>0</td>\n",
       "      <td>0</td>\n",
       "      <td>1</td>\n",
       "      <td>0</td>\n",
       "      <td>0</td>\n",
       "      <td>0</td>\n",
       "      <td>1</td>\n",
       "      <td>0</td>\n",
       "      <td>...</td>\n",
       "      <td>0</td>\n",
       "      <td>0</td>\n",
       "      <td>0</td>\n",
       "      <td>0</td>\n",
       "      <td>0</td>\n",
       "      <td>0</td>\n",
       "      <td>0</td>\n",
       "      <td>0</td>\n",
       "      <td>0</td>\n",
       "      <td>1</td>\n",
       "    </tr>\n",
       "    <tr>\n",
       "      <th>1</th>\n",
       "      <td>70.0</td>\n",
       "      <td>5.0</td>\n",
       "      <td>0</td>\n",
       "      <td>0</td>\n",
       "      <td>1</td>\n",
       "      <td>0</td>\n",
       "      <td>0</td>\n",
       "      <td>0</td>\n",
       "      <td>1</td>\n",
       "      <td>0</td>\n",
       "      <td>...</td>\n",
       "      <td>0</td>\n",
       "      <td>0</td>\n",
       "      <td>0</td>\n",
       "      <td>0</td>\n",
       "      <td>1</td>\n",
       "      <td>0</td>\n",
       "      <td>0</td>\n",
       "      <td>0</td>\n",
       "      <td>0</td>\n",
       "      <td>0</td>\n",
       "    </tr>\n",
       "    <tr>\n",
       "      <th>2</th>\n",
       "      <td>26.0</td>\n",
       "      <td>5.0</td>\n",
       "      <td>0</td>\n",
       "      <td>0</td>\n",
       "      <td>1</td>\n",
       "      <td>0</td>\n",
       "      <td>0</td>\n",
       "      <td>0</td>\n",
       "      <td>1</td>\n",
       "      <td>0</td>\n",
       "      <td>...</td>\n",
       "      <td>0</td>\n",
       "      <td>0</td>\n",
       "      <td>0</td>\n",
       "      <td>0</td>\n",
       "      <td>0</td>\n",
       "      <td>0</td>\n",
       "      <td>0</td>\n",
       "      <td>0</td>\n",
       "      <td>0</td>\n",
       "      <td>1</td>\n",
       "    </tr>\n",
       "    <tr>\n",
       "      <th>3</th>\n",
       "      <td>34.0</td>\n",
       "      <td>5.0</td>\n",
       "      <td>0</td>\n",
       "      <td>0</td>\n",
       "      <td>1</td>\n",
       "      <td>0</td>\n",
       "      <td>0</td>\n",
       "      <td>0</td>\n",
       "      <td>1</td>\n",
       "      <td>0</td>\n",
       "      <td>...</td>\n",
       "      <td>0</td>\n",
       "      <td>0</td>\n",
       "      <td>0</td>\n",
       "      <td>1</td>\n",
       "      <td>0</td>\n",
       "      <td>0</td>\n",
       "      <td>0</td>\n",
       "      <td>0</td>\n",
       "      <td>0</td>\n",
       "      <td>0</td>\n",
       "    </tr>\n",
       "    <tr>\n",
       "      <th>4</th>\n",
       "      <td>26.0</td>\n",
       "      <td>8.0</td>\n",
       "      <td>0</td>\n",
       "      <td>0</td>\n",
       "      <td>1</td>\n",
       "      <td>0</td>\n",
       "      <td>0</td>\n",
       "      <td>0</td>\n",
       "      <td>1</td>\n",
       "      <td>0</td>\n",
       "      <td>...</td>\n",
       "      <td>0</td>\n",
       "      <td>0</td>\n",
       "      <td>0</td>\n",
       "      <td>0</td>\n",
       "      <td>0</td>\n",
       "      <td>1</td>\n",
       "      <td>0</td>\n",
       "      <td>0</td>\n",
       "      <td>0</td>\n",
       "      <td>0</td>\n",
       "    </tr>\n",
       "  </tbody>\n",
       "</table>\n",
       "<p>5 rows × 46 columns</p>\n",
       "</div>"
      ],
      "text/plain": [
       "    age  household_size  year_2016  year_2017  year_2018  year_2029  \\\n",
       "0  24.0             3.0          0          0          1          0   \n",
       "1  70.0             5.0          0          0          1          0   \n",
       "2  26.0             5.0          0          0          1          0   \n",
       "3  34.0             5.0          0          0          1          0   \n",
       "4  26.0             8.0          0          0          1          0   \n",
       "\n",
       "   year_2039  year_2056  country_Kenya  country_Rwanda  ...  \\\n",
       "0          0          0              1               0  ...   \n",
       "1          0          0              1               0  ...   \n",
       "2          0          0              1               0  ...   \n",
       "3          0          0              1               0  ...   \n",
       "4          0          0              1               0  ...   \n",
       "\n",
       "   job_Dont Know/Refuse to answer  job_Farming and Fishing  \\\n",
       "0                               0                        0   \n",
       "1                               0                        0   \n",
       "2                               0                        0   \n",
       "3                               0                        0   \n",
       "4                               0                        0   \n",
       "\n",
       "   job_Formally employed Government  job_Formally employed Private  \\\n",
       "0                                 0                              0   \n",
       "1                                 0                              0   \n",
       "2                                 0                              0   \n",
       "3                                 0                              1   \n",
       "4                                 0                              0   \n",
       "\n",
       "   job_Government Dependent  job_Informally employed  job_No Income  \\\n",
       "0                         0                        0              0   \n",
       "1                         1                        0              0   \n",
       "2                         0                        0              0   \n",
       "3                         0                        0              0   \n",
       "4                         0                        1              0   \n",
       "\n",
       "   job_Other Income  job_Remittance Dependent  job_Self employed  \n",
       "0                 0                         0                  1  \n",
       "1                 0                         0                  0  \n",
       "2                 0                         0                  1  \n",
       "3                 0                         0                  0  \n",
       "4                 0                         0                  0  \n",
       "\n",
       "[5 rows x 46 columns]"
      ]
     },
     "execution_count": 26,
     "metadata": {},
     "output_type": "execute_result"
    }
   ],
   "source": [
    "# Creating a subset of the dataste with all categotical variables\n",
    "categoricals = data[['year', 'country', 'location', 'cell_phone', 'gender', \n",
    "                     'rship_with_head', 'marital_status', 'education', 'job']]\n",
    "\n",
    "# Creating a subset of the data with the numerical variables\n",
    "numericals = data[['age', 'household_size']]\n",
    "\n",
    "# Defining our target variable\n",
    "target = data['banking_status']\n",
    "\n",
    "\n",
    "# Creating a final dataset of the transformed numerical features\n",
    "\n",
    "features = pd.concat([numericals, pd.get_dummies(categoricals)], axis=1)\n",
    "\n",
    "# Previewing our features\n",
    "features.head()\n"
   ]
  },
  {
   "cell_type": "markdown",
   "id": "KbFQdyNti1gc",
   "metadata": {
    "id": "KbFQdyNti1gc"
   },
   "source": [
    "Let's also encode out target features to be 1 for yes and 0 for No"
   ]
  },
  {
   "cell_type": "code",
   "execution_count": 27,
   "id": "UOQG6DjSi7sv",
   "metadata": {
    "executionInfo": {
     "elapsed": 98,
     "status": "ok",
     "timestamp": 1654868472475,
     "user": {
      "displayName": "Meshack Mbonge",
      "userId": "14960026128969644465"
     },
     "user_tz": -180
    },
    "id": "UOQG6DjSi7sv"
   },
   "outputs": [],
   "source": [
    "target.replace({'Yes': 1, 'No' : 0}, inplace=True)"
   ]
  },
  {
   "cell_type": "code",
   "execution_count": 28,
   "id": "OJU7D3HTk8hw",
   "metadata": {
    "executionInfo": {
     "elapsed": 99,
     "status": "ok",
     "timestamp": 1654868472479,
     "user": {
      "displayName": "Meshack Mbonge",
      "userId": "14960026128969644465"
     },
     "user_tz": -180
    },
    "id": "OJU7D3HTk8hw"
   },
   "outputs": [],
   "source": [
    "# Splitting the data into train and test\n",
    "\n",
    "# spliting data to test and train\n",
    "\n",
    "from sklearn.model_selection import train_test_split\n",
    "\n",
    "train_features, test_features, train_target, test_target = train_test_split(features, target, test_size=0.4, random_state=0)"
   ]
  },
  {
   "cell_type": "code",
   "execution_count": 29,
   "id": "mlAFKYnUlMvP",
   "metadata": {
    "executionInfo": {
     "elapsed": 99,
     "status": "ok",
     "timestamp": 1654868472482,
     "user": {
      "displayName": "Meshack Mbonge",
      "userId": "14960026128969644465"
     },
     "user_tz": -180
    },
    "id": "mlAFKYnUlMvP"
   },
   "outputs": [],
   "source": [
    "# Normalizing the data\n",
    "\n",
    "from sklearn.preprocessing import StandardScaler\n",
    "\n",
    "# Inititializing the scaler\n",
    "sc = StandardScaler()\n",
    "\n",
    "# Transforming training ans testing features into normalized features\n",
    "train_features = sc.fit_transform(train_features)\n",
    "test_features = sc.transform(test_features)"
   ]
  },
  {
   "cell_type": "code",
   "execution_count": 30,
   "id": "E8T03P2MmPrk",
   "metadata": {
    "executionInfo": {
     "elapsed": 103,
     "status": "ok",
     "timestamp": 1654868472489,
     "user": {
      "displayName": "Meshack Mbonge",
      "userId": "14960026128969644465"
     },
     "user_tz": -180
    },
    "id": "E8T03P2MmPrk"
   },
   "outputs": [],
   "source": [
    "# Applying PCA\n",
    "\n",
    "from sklearn.decomposition import PCA\n",
    "\n",
    "pca = PCA()\n",
    "train_features = pca.fit_transform(train_features)\n",
    "test_features = pca.transform(test_features)"
   ]
  },
  {
   "cell_type": "code",
   "execution_count": 31,
   "id": "3H6vQtZEoURw",
   "metadata": {
    "colab": {
     "base_uri": "https://localhost:8080/"
    },
    "executionInfo": {
     "elapsed": 101,
     "status": "ok",
     "timestamp": 1654868472491,
     "user": {
      "displayName": "Meshack Mbonge",
      "userId": "14960026128969644465"
     },
     "user_tz": -180
    },
    "id": "3H6vQtZEoURw",
    "outputId": "cc2b3908-4c5c-4daa-d34a-043bb8d472b1"
   },
   "outputs": [
    {
     "name": "stdout",
     "output_type": "stream",
     "text": [
      "46\n",
      "1.0000000020000002\n"
     ]
    },
    {
     "data": {
      "text/plain": [
       "array([0.11685705, 0.07532362, 0.06758418, 0.06327118, 0.04898664,\n",
       "       0.04302667, 0.03776368, 0.03357313, 0.03270819, 0.03059703,\n",
       "       0.02781445, 0.02588305, 0.02461528, 0.02414992, 0.02355946,\n",
       "       0.02317791, 0.02306585, 0.02264739, 0.02252369, 0.02228036,\n",
       "       0.02211288, 0.02193322, 0.02159935, 0.02055971, 0.0197501 ,\n",
       "       0.01896649, 0.01778521, 0.01447317, 0.01330235, 0.01111384,\n",
       "       0.01053311, 0.01012754, 0.00833429, 0.        , 0.        ,\n",
       "       0.        , 0.        , 0.        , 0.        , 0.        ,\n",
       "       0.        , 0.        , 0.        , 0.        , 0.        ,\n",
       "       0.        ])"
      ]
     },
     "execution_count": 31,
     "metadata": {},
     "output_type": "execute_result"
    }
   ],
   "source": [
    "# Finding the Explained Variance Ratio\n",
    "\n",
    "explained_variance = pca.explained_variance_ratio_\n",
    "\n",
    "# Rounded variance ratios for better understading\n",
    "\n",
    "explained_variance = np.round_(explained_variance, decimals=9)\n",
    "\n",
    "print(len(explained_variance))\n",
    "\n",
    "print(sum(explained_variance))\n",
    "\n",
    "explained_variance"
   ]
  },
  {
   "cell_type": "code",
   "execution_count": 32,
   "id": "-I0Ms5fB1zfE",
   "metadata": {
    "colab": {
     "base_uri": "https://localhost:8080/",
     "height": 350
    },
    "executionInfo": {
     "elapsed": 79,
     "status": "ok",
     "timestamp": 1654868473318,
     "user": {
      "displayName": "Meshack Mbonge",
      "userId": "14960026128969644465"
     },
     "user_tz": -180
    },
    "id": "-I0Ms5fB1zfE",
    "outputId": "6e3957a3-d143-4b2b-c107-9e523dc48762"
   },
   "outputs": [
    {
     "data": {
      "image/png": "[encoded data removed]",
      "text/plain": [
       "<Figure size 720x360 with 1 Axes>"
      ]
     },
     "metadata": {
      "needs_background": "light"
     },
     "output_type": "display_data"
    }
   ],
   "source": [
    "# plotting a scree plot\n",
    "plt.figure(figsize=(10,5))\n",
    "PC_values = np.arange(pca.n_components_) + 1\n",
    "plt.plot(PC_values, pca.explained_variance_ratio_, 'o-', linewidth=2, color='blue')\n",
    "plt.title('Scree Plot')\n",
    "plt.xlabel('Principal Component')\n",
    "plt.ylabel('Variance Explained')\n",
    "plt.show()"
   ]
  },
  {
   "cell_type": "markdown",
   "id": "X2GiaOpupvkx",
   "metadata": {
    "id": "X2GiaOpupvkx"
   },
   "source": [
    "From the explained variance ratios above, amount of variance explained by each pricipal component. We can see that the first component explains 11.69% of the variance in the dataset, the second 7.53% and so on and so forth. Summed together the total explained variance is equal to 1.\n",
    "\n",
    "We need find the number of components that would explain at least 90% of the variance."
   ]
  },
  {
   "cell_type": "code",
   "execution_count": 33,
   "id": "o6wa20UDrGEC",
   "metadata": {
    "colab": {
     "base_uri": "https://localhost:8080/"
    },
    "executionInfo": {
     "elapsed": 76,
     "status": "ok",
     "timestamp": 1654868473324,
     "user": {
      "displayName": "Meshack Mbonge",
      "userId": "14960026128969644465"
     },
     "user_tz": -180
    },
    "id": "o6wa20UDrGEC",
    "outputId": "084c9220-5268-42b3-d5a1-f9c0d8528e39"
   },
   "outputs": [
    {
     "data": {
      "text/plain": [
       "25"
      ]
     },
     "execution_count": 33,
     "metadata": {},
     "output_type": "execute_result"
    }
   ],
   "source": [
    "total=0\n",
    "count=0\n",
    "for i in pca.explained_variance_ratio_:\n",
    "    total+=i\n",
    "    if total<=0.9:\n",
    "        count+=1\n",
    "    else:\n",
    "        break\n",
    "\n",
    "count"
   ]
  },
  {
   "cell_type": "markdown",
   "id": "Epu-lwXNsTjU",
   "metadata": {
    "id": "Epu-lwXNsTjU"
   },
   "source": [
    "We see that we need 25 principal components to explain 90% of the variance. We can take these 25 and try to predict the target variable. This will help us identify whether 25 is an optimal number of pricipal components by assessing the resulting confusion matrix"
   ]
  },
  {
   "cell_type": "code",
   "execution_count": 34,
   "id": "WhP9GvsUsTSs",
   "metadata": {
    "colab": {
     "base_uri": "https://localhost:8080/"
    },
    "executionInfo": {
     "elapsed": 18502,
     "status": "ok",
     "timestamp": 1654868491768,
     "user": {
      "displayName": "Meshack Mbonge",
      "userId": "14960026128969644465"
     },
     "user_tz": -180
    },
    "id": "WhP9GvsUsTSs",
    "outputId": "30c53859-91df-47e7-9b91-47778bbe0379"
   },
   "outputs": [
    {
     "name": "stdout",
     "output_type": "stream",
     "text": [
      "[[7574  446]\n",
      " [ 825  493]]\n",
      "Accuracy 0.8638894838295138\n"
     ]
    }
   ],
   "source": [
    "from sklearn.decomposition import PCA\n",
    "\n",
    "pca = PCA(n_components=25)\n",
    "train_features = pca.fit_transform(train_features)\n",
    "test_features = pca.transform(test_features)\n",
    "\n",
    "# Let's test using a random forest classifier\n",
    "\n",
    "from sklearn.ensemble import RandomForestClassifier\n",
    "\n",
    "classifier = RandomForestClassifier(max_depth=25, random_state=0)\n",
    "classifier.fit(train_features, train_target)\n",
    "\n",
    "# Predicting the Test set results\n",
    "predicted_targets = classifier.predict(test_features)\n",
    "\n",
    "# Performance Evaluation\n",
    "\n",
    "from sklearn.metrics import confusion_matrix\n",
    "from sklearn.metrics import accuracy_score\n",
    "\n",
    "cm = confusion_matrix(test_target, predicted_targets)\n",
    "print(cm)\n",
    "print('Accuracy' , accuracy_score(test_target, predicted_targets))"
   ]
  },
  {
   "cell_type": "markdown",
   "id": "XLBEYX6JubKY",
   "metadata": {
    "id": "XLBEYX6JubKY"
   },
   "source": [
    "We see that using 25 principal components, the random forest is able to correctly predict 8,067 of 9,338 instances resulting to a 86.39% accuracy.\n",
    "\n",
    "This is good and we can say that we can use 25 principal components to explain the total variability of the data.\n",
    "\n",
    "Let's try with 30 components"
   ]
  },
  {
   "cell_type": "code",
   "execution_count": 35,
   "id": "BcjTb5AKxqGT",
   "metadata": {
    "colab": {
     "base_uri": "https://localhost:8080/"
    },
    "executionInfo": {
     "elapsed": 17289,
     "status": "ok",
     "timestamp": 1654868509022,
     "user": {
      "displayName": "Meshack Mbonge",
      "userId": "14960026128969644465"
     },
     "user_tz": -180
    },
    "id": "BcjTb5AKxqGT",
    "outputId": "24a24015-a44b-40d2-f840-d658a5713797"
   },
   "outputs": [
    {
     "name": "stdout",
     "output_type": "stream",
     "text": [
      "[[5656  336]\n",
      " [ 641  370]]\n",
      "Accuracy 0.8604883621305155\n"
     ]
    }
   ],
   "source": [
    "# Split into train and test data\n",
    "train_features, test_features, train_target, test_target = train_test_split(features, target, test_size=0.3, random_state=0)\n",
    "\n",
    "sc = StandardScaler()\n",
    "train_features = sc.fit_transform(train_features)\n",
    "test_features = sc.transform(test_features)\n",
    "\n",
    "pca = PCA(n_components=30)\n",
    "train_features = pca.fit_transform(train_features)\n",
    "test_features = pca.transform(test_features)\n",
    "\n",
    "# With 30 principal components the classification accuracy should gain increase\n",
    "classifier = RandomForestClassifier(max_depth=30, random_state=0)\n",
    "classifier.fit(train_features, train_target)\n",
    "\n",
    "# Predicting the Test set results\n",
    "predicted_targets = classifier.predict(test_features)\n",
    "\n",
    "cm = confusion_matrix(test_target, predicted_targets)\n",
    "print(cm)\n",
    "print('Accuracy' , accuracy_score(test_target, predicted_targets))"
   ]
  },
  {
   "cell_type": "markdown",
   "id": "gvMuW_TW03GW",
   "metadata": {
    "id": "gvMuW_TW03GW"
   },
   "source": [
    "**Conclusion:** Our test accuracy reduced with 30 components. Therefore we can say that 25 components are reliable in explaining the variability of the data and predicting the dependent variable with a reliable accuracy score."
   ]
  },
  {
   "cell_type": "markdown",
   "id": "vFwOjMZI27Ip",
   "metadata": {
    "id": "vFwOjMZI27Ip"
   },
   "source": [
    "# Hypothesis Testing"
   ]
  },
  {
   "cell_type": "markdown",
   "id": "434c9b49",
   "metadata": {
    "id": "meycOEsX29pz"
   },
   "source": [
    "We have been tasked to understand electric car usag. We will work as a Data Scientist for the Autolib electric car-sharing service company to investigate a claim about the blue cars from the provided Autolib dataset.\n",
    "\n",
    "In an effort to do this, we need to identify some areas and periods of interest via sampling stating the reason to the choice of method, then perform hypothesis testing with regards to the claim that we will have made. The selected periods of interest can be either weekdays or weekends but not a mix of both. \n",
    "\n",
    "To work on this project, we will perform the following analysis with Python; \n",
    "\n",
    "* Find and deal with outliers, anomalies, and missing data within the dataset.\n",
    "* Plot appropriate univariate and bivariate summaries recording our observations.\n",
    "* Implement the solution by performing hypothesis testing.\n",
    "\n",
    "This will need to be documented when writing the report. "
   ]
  },
  {
   "cell_type": "code",
   "execution_count": 36,
   "id": "b457d465",
   "metadata": {},
   "outputs": [
    {
     "data": {
      "text/html": [
       "<div>\n",
       "<style scoped>\n",
       "    .dataframe tbody tr th:only-of-type {\n",
       "        vertical-align: middle;\n",
       "    }\n",
       "\n",
       "    .dataframe tbody tr th {\n",
       "        vertical-align: top;\n",
       "    }\n",
       "\n",
       "    .dataframe thead th {\n",
       "        text-align: right;\n",
       "    }\n",
       "</style>\n",
       "<table border=\"1\" class=\"dataframe\">\n",
       "  <thead>\n",
       "    <tr style=\"text-align: right;\">\n",
       "      <th></th>\n",
       "      <th>Postal code</th>\n",
       "      <th>date</th>\n",
       "      <th>n_daily_data_points</th>\n",
       "      <th>dayOfWeek</th>\n",
       "      <th>day_type</th>\n",
       "      <th>BlueCars_taken_sum</th>\n",
       "      <th>BlueCars_returned_sum</th>\n",
       "      <th>Utilib_taken_sum</th>\n",
       "      <th>Utilib_returned_sum</th>\n",
       "      <th>Utilib_14_taken_sum</th>\n",
       "      <th>Utilib_14_returned_sum</th>\n",
       "      <th>Slots_freed_sum</th>\n",
       "      <th>Slots_taken_sum</th>\n",
       "    </tr>\n",
       "  </thead>\n",
       "  <tbody>\n",
       "    <tr>\n",
       "      <th>0</th>\n",
       "      <td>75001</td>\n",
       "      <td>1/1/2018</td>\n",
       "      <td>1440</td>\n",
       "      <td>0</td>\n",
       "      <td>weekday</td>\n",
       "      <td>110</td>\n",
       "      <td>103</td>\n",
       "      <td>3</td>\n",
       "      <td>2</td>\n",
       "      <td>10</td>\n",
       "      <td>9</td>\n",
       "      <td>22</td>\n",
       "      <td>20</td>\n",
       "    </tr>\n",
       "    <tr>\n",
       "      <th>1</th>\n",
       "      <td>75001</td>\n",
       "      <td>1/2/2018</td>\n",
       "      <td>1438</td>\n",
       "      <td>1</td>\n",
       "      <td>weekday</td>\n",
       "      <td>98</td>\n",
       "      <td>94</td>\n",
       "      <td>1</td>\n",
       "      <td>1</td>\n",
       "      <td>8</td>\n",
       "      <td>8</td>\n",
       "      <td>23</td>\n",
       "      <td>22</td>\n",
       "    </tr>\n",
       "    <tr>\n",
       "      <th>2</th>\n",
       "      <td>75001</td>\n",
       "      <td>1/3/2018</td>\n",
       "      <td>1439</td>\n",
       "      <td>2</td>\n",
       "      <td>weekday</td>\n",
       "      <td>138</td>\n",
       "      <td>139</td>\n",
       "      <td>0</td>\n",
       "      <td>0</td>\n",
       "      <td>2</td>\n",
       "      <td>2</td>\n",
       "      <td>27</td>\n",
       "      <td>27</td>\n",
       "    </tr>\n",
       "    <tr>\n",
       "      <th>3</th>\n",
       "      <td>75001</td>\n",
       "      <td>1/4/2018</td>\n",
       "      <td>1320</td>\n",
       "      <td>3</td>\n",
       "      <td>weekday</td>\n",
       "      <td>104</td>\n",
       "      <td>104</td>\n",
       "      <td>2</td>\n",
       "      <td>2</td>\n",
       "      <td>9</td>\n",
       "      <td>8</td>\n",
       "      <td>25</td>\n",
       "      <td>21</td>\n",
       "    </tr>\n",
       "    <tr>\n",
       "      <th>4</th>\n",
       "      <td>75001</td>\n",
       "      <td>1/5/2018</td>\n",
       "      <td>1440</td>\n",
       "      <td>4</td>\n",
       "      <td>weekday</td>\n",
       "      <td>114</td>\n",
       "      <td>117</td>\n",
       "      <td>3</td>\n",
       "      <td>3</td>\n",
       "      <td>6</td>\n",
       "      <td>6</td>\n",
       "      <td>18</td>\n",
       "      <td>20</td>\n",
       "    </tr>\n",
       "  </tbody>\n",
       "</table>\n",
       "</div>"
      ],
      "text/plain": [
       "   Postal code      date  n_daily_data_points  dayOfWeek day_type  \\\n",
       "0        75001  1/1/2018                 1440          0  weekday   \n",
       "1        75001  1/2/2018                 1438          1  weekday   \n",
       "2        75001  1/3/2018                 1439          2  weekday   \n",
       "3        75001  1/4/2018                 1320          3  weekday   \n",
       "4        75001  1/5/2018                 1440          4  weekday   \n",
       "\n",
       "   BlueCars_taken_sum  BlueCars_returned_sum  Utilib_taken_sum  \\\n",
       "0                 110                    103                 3   \n",
       "1                  98                     94                 1   \n",
       "2                 138                    139                 0   \n",
       "3                 104                    104                 2   \n",
       "4                 114                    117                 3   \n",
       "\n",
       "   Utilib_returned_sum  Utilib_14_taken_sum  Utilib_14_returned_sum  \\\n",
       "0                    2                   10                       9   \n",
       "1                    1                    8                       8   \n",
       "2                    0                    2                       2   \n",
       "3                    2                    9                       8   \n",
       "4                    3                    6                       6   \n",
       "\n",
       "   Slots_freed_sum  Slots_taken_sum  \n",
       "0               22               20  \n",
       "1               23               22  \n",
       "2               27               27  \n",
       "3               25               21  \n",
       "4               18               20  "
      ]
     },
     "execution_count": 36,
     "metadata": {},
     "output_type": "execute_result"
    }
   ],
   "source": [
    "# Importing Dataset\n",
    "df= pd.read_csv('autolib_daily_events_postal_code.csv')\n",
    "df.head()"
   ]
  },
  {
   "cell_type": "code",
   "execution_count": 37,
   "id": "66ec1e2f",
   "metadata": {},
   "outputs": [
    {
     "data": {
      "text/plain": [
       "(16085, 13)"
      ]
     },
     "execution_count": 37,
     "metadata": {},
     "output_type": "execute_result"
    }
   ],
   "source": [
    "# Checking the size of the data\n",
    "\n",
    "df.shape"
   ]
  },
  {
   "cell_type": "markdown",
   "id": "88415fdc",
   "metadata": {},
   "source": [
    "Our dataset contains 16,085 records spread across 13 columns. Let's check what types of data it contains."
   ]
  },
  {
   "cell_type": "code",
   "execution_count": 38,
   "id": "d10c5f10",
   "metadata": {},
   "outputs": [
    {
     "data": {
      "text/plain": [
       "Postal code                int64\n",
       "date                      object\n",
       "n_daily_data_points        int64\n",
       "dayOfWeek                  int64\n",
       "day_type                  object\n",
       "BlueCars_taken_sum         int64\n",
       "BlueCars_returned_sum      int64\n",
       "Utilib_taken_sum           int64\n",
       "Utilib_returned_sum        int64\n",
       "Utilib_14_taken_sum        int64\n",
       "Utilib_14_returned_sum     int64\n",
       "Slots_freed_sum            int64\n",
       "Slots_taken_sum            int64\n",
       "dtype: object"
      ]
     },
     "execution_count": 38,
     "metadata": {},
     "output_type": "execute_result"
    }
   ],
   "source": [
    "# Checking datatypes\n",
    "df.dtypes"
   ]
  },
  {
   "cell_type": "markdown",
   "id": "515f76d7",
   "metadata": {},
   "source": [
    "Our dataset consists of mainly numerical data with only date and day_type being categorical. Let's check some descriptive statistics"
   ]
  },
  {
   "cell_type": "code",
   "execution_count": 39,
   "id": "13539942",
   "metadata": {
    "scrolled": true
   },
   "outputs": [
    {
     "data": {
      "text/html": [
       "<div>\n",
       "<style scoped>\n",
       "    .dataframe tbody tr th:only-of-type {\n",
       "        vertical-align: middle;\n",
       "    }\n",
       "\n",
       "    .dataframe tbody tr th {\n",
       "        vertical-align: top;\n",
       "    }\n",
       "\n",
       "    .dataframe thead th {\n",
       "        text-align: right;\n",
       "    }\n",
       "</style>\n",
       "<table border=\"1\" class=\"dataframe\">\n",
       "  <thead>\n",
       "    <tr style=\"text-align: right;\">\n",
       "      <th></th>\n",
       "      <th>Postal code</th>\n",
       "      <th>date</th>\n",
       "      <th>n_daily_data_points</th>\n",
       "      <th>dayOfWeek</th>\n",
       "      <th>day_type</th>\n",
       "      <th>BlueCars_taken_sum</th>\n",
       "      <th>BlueCars_returned_sum</th>\n",
       "      <th>Utilib_taken_sum</th>\n",
       "      <th>Utilib_returned_sum</th>\n",
       "      <th>Utilib_14_taken_sum</th>\n",
       "      <th>Utilib_14_returned_sum</th>\n",
       "      <th>Slots_freed_sum</th>\n",
       "      <th>Slots_taken_sum</th>\n",
       "    </tr>\n",
       "  </thead>\n",
       "  <tbody>\n",
       "    <tr>\n",
       "      <th>count</th>\n",
       "      <td>16085.000000</td>\n",
       "      <td>16085</td>\n",
       "      <td>16085.000000</td>\n",
       "      <td>16085.000000</td>\n",
       "      <td>16085</td>\n",
       "      <td>16085.000000</td>\n",
       "      <td>16085.000000</td>\n",
       "      <td>16085.000000</td>\n",
       "      <td>16085.000000</td>\n",
       "      <td>16085.000000</td>\n",
       "      <td>16085.000000</td>\n",
       "      <td>16085.000000</td>\n",
       "      <td>16085.000000</td>\n",
       "    </tr>\n",
       "    <tr>\n",
       "      <th>unique</th>\n",
       "      <td>NaN</td>\n",
       "      <td>156</td>\n",
       "      <td>NaN</td>\n",
       "      <td>NaN</td>\n",
       "      <td>2</td>\n",
       "      <td>NaN</td>\n",
       "      <td>NaN</td>\n",
       "      <td>NaN</td>\n",
       "      <td>NaN</td>\n",
       "      <td>NaN</td>\n",
       "      <td>NaN</td>\n",
       "      <td>NaN</td>\n",
       "      <td>NaN</td>\n",
       "    </tr>\n",
       "    <tr>\n",
       "      <th>top</th>\n",
       "      <td>NaN</td>\n",
       "      <td>2/23/2018</td>\n",
       "      <td>NaN</td>\n",
       "      <td>NaN</td>\n",
       "      <td>weekday</td>\n",
       "      <td>NaN</td>\n",
       "      <td>NaN</td>\n",
       "      <td>NaN</td>\n",
       "      <td>NaN</td>\n",
       "      <td>NaN</td>\n",
       "      <td>NaN</td>\n",
       "      <td>NaN</td>\n",
       "      <td>NaN</td>\n",
       "    </tr>\n",
       "    <tr>\n",
       "      <th>freq</th>\n",
       "      <td>NaN</td>\n",
       "      <td>104</td>\n",
       "      <td>NaN</td>\n",
       "      <td>NaN</td>\n",
       "      <td>11544</td>\n",
       "      <td>NaN</td>\n",
       "      <td>NaN</td>\n",
       "      <td>NaN</td>\n",
       "      <td>NaN</td>\n",
       "      <td>NaN</td>\n",
       "      <td>NaN</td>\n",
       "      <td>NaN</td>\n",
       "      <td>NaN</td>\n",
       "    </tr>\n",
       "    <tr>\n",
       "      <th>mean</th>\n",
       "      <td>88791.293876</td>\n",
       "      <td>NaN</td>\n",
       "      <td>1431.330619</td>\n",
       "      <td>2.969599</td>\n",
       "      <td>NaN</td>\n",
       "      <td>125.926951</td>\n",
       "      <td>125.912714</td>\n",
       "      <td>3.698290</td>\n",
       "      <td>3.699099</td>\n",
       "      <td>8.600560</td>\n",
       "      <td>8.599192</td>\n",
       "      <td>22.629033</td>\n",
       "      <td>22.629282</td>\n",
       "    </tr>\n",
       "    <tr>\n",
       "      <th>std</th>\n",
       "      <td>7647.342000</td>\n",
       "      <td>NaN</td>\n",
       "      <td>33.212050</td>\n",
       "      <td>2.008378</td>\n",
       "      <td>NaN</td>\n",
       "      <td>185.426579</td>\n",
       "      <td>185.501535</td>\n",
       "      <td>5.815058</td>\n",
       "      <td>5.824634</td>\n",
       "      <td>12.870098</td>\n",
       "      <td>12.868993</td>\n",
       "      <td>52.120263</td>\n",
       "      <td>52.146030</td>\n",
       "    </tr>\n",
       "    <tr>\n",
       "      <th>min</th>\n",
       "      <td>75001.000000</td>\n",
       "      <td>NaN</td>\n",
       "      <td>1174.000000</td>\n",
       "      <td>0.000000</td>\n",
       "      <td>NaN</td>\n",
       "      <td>0.000000</td>\n",
       "      <td>0.000000</td>\n",
       "      <td>0.000000</td>\n",
       "      <td>0.000000</td>\n",
       "      <td>0.000000</td>\n",
       "      <td>0.000000</td>\n",
       "      <td>0.000000</td>\n",
       "      <td>0.000000</td>\n",
       "    </tr>\n",
       "    <tr>\n",
       "      <th>25%</th>\n",
       "      <td>91330.000000</td>\n",
       "      <td>NaN</td>\n",
       "      <td>1439.000000</td>\n",
       "      <td>1.000000</td>\n",
       "      <td>NaN</td>\n",
       "      <td>20.000000</td>\n",
       "      <td>20.000000</td>\n",
       "      <td>0.000000</td>\n",
       "      <td>0.000000</td>\n",
       "      <td>1.000000</td>\n",
       "      <td>1.000000</td>\n",
       "      <td>0.000000</td>\n",
       "      <td>0.000000</td>\n",
       "    </tr>\n",
       "    <tr>\n",
       "      <th>50%</th>\n",
       "      <td>92340.000000</td>\n",
       "      <td>NaN</td>\n",
       "      <td>1440.000000</td>\n",
       "      <td>3.000000</td>\n",
       "      <td>NaN</td>\n",
       "      <td>46.000000</td>\n",
       "      <td>46.000000</td>\n",
       "      <td>1.000000</td>\n",
       "      <td>1.000000</td>\n",
       "      <td>3.000000</td>\n",
       "      <td>3.000000</td>\n",
       "      <td>0.000000</td>\n",
       "      <td>0.000000</td>\n",
       "    </tr>\n",
       "    <tr>\n",
       "      <th>75%</th>\n",
       "      <td>93400.000000</td>\n",
       "      <td>NaN</td>\n",
       "      <td>1440.000000</td>\n",
       "      <td>5.000000</td>\n",
       "      <td>NaN</td>\n",
       "      <td>135.000000</td>\n",
       "      <td>135.000000</td>\n",
       "      <td>4.000000</td>\n",
       "      <td>4.000000</td>\n",
       "      <td>10.000000</td>\n",
       "      <td>10.000000</td>\n",
       "      <td>5.000000</td>\n",
       "      <td>5.000000</td>\n",
       "    </tr>\n",
       "    <tr>\n",
       "      <th>max</th>\n",
       "      <td>95880.000000</td>\n",
       "      <td>NaN</td>\n",
       "      <td>1440.000000</td>\n",
       "      <td>6.000000</td>\n",
       "      <td>NaN</td>\n",
       "      <td>1352.000000</td>\n",
       "      <td>1332.000000</td>\n",
       "      <td>54.000000</td>\n",
       "      <td>58.000000</td>\n",
       "      <td>100.000000</td>\n",
       "      <td>101.000000</td>\n",
       "      <td>360.000000</td>\n",
       "      <td>359.000000</td>\n",
       "    </tr>\n",
       "  </tbody>\n",
       "</table>\n",
       "</div>"
      ],
      "text/plain": [
       "         Postal code       date  n_daily_data_points     dayOfWeek day_type  \\\n",
       "count   16085.000000      16085         16085.000000  16085.000000    16085   \n",
       "unique           NaN        156                  NaN           NaN        2   \n",
       "top              NaN  2/23/2018                  NaN           NaN  weekday   \n",
       "freq             NaN        104                  NaN           NaN    11544   \n",
       "mean    88791.293876        NaN          1431.330619      2.969599      NaN   \n",
       "std      7647.342000        NaN            33.212050      2.008378      NaN   \n",
       "min     75001.000000        NaN          1174.000000      0.000000      NaN   \n",
       "25%     91330.000000        NaN          1439.000000      1.000000      NaN   \n",
       "50%     92340.000000        NaN          1440.000000      3.000000      NaN   \n",
       "75%     93400.000000        NaN          1440.000000      5.000000      NaN   \n",
       "max     95880.000000        NaN          1440.000000      6.000000      NaN   \n",
       "\n",
       "        BlueCars_taken_sum  BlueCars_returned_sum  Utilib_taken_sum  \\\n",
       "count         16085.000000           16085.000000      16085.000000   \n",
       "unique                 NaN                    NaN               NaN   \n",
       "top                    NaN                    NaN               NaN   \n",
       "freq                   NaN                    NaN               NaN   \n",
       "mean            125.926951             125.912714          3.698290   \n",
       "std             185.426579             185.501535          5.815058   \n",
       "min               0.000000               0.000000          0.000000   \n",
       "25%              20.000000              20.000000          0.000000   \n",
       "50%              46.000000              46.000000          1.000000   \n",
       "75%             135.000000             135.000000          4.000000   \n",
       "max            1352.000000            1332.000000         54.000000   \n",
       "\n",
       "        Utilib_returned_sum  Utilib_14_taken_sum  Utilib_14_returned_sum  \\\n",
       "count          16085.000000         16085.000000            16085.000000   \n",
       "unique                  NaN                  NaN                     NaN   \n",
       "top                     NaN                  NaN                     NaN   \n",
       "freq                    NaN                  NaN                     NaN   \n",
       "mean               3.699099             8.600560                8.599192   \n",
       "std                5.824634            12.870098               12.868993   \n",
       "min                0.000000             0.000000                0.000000   \n",
       "25%                0.000000             1.000000                1.000000   \n",
       "50%                1.000000             3.000000                3.000000   \n",
       "75%                4.000000            10.000000               10.000000   \n",
       "max               58.000000           100.000000              101.000000   \n",
       "\n",
       "        Slots_freed_sum  Slots_taken_sum  \n",
       "count      16085.000000     16085.000000  \n",
       "unique              NaN              NaN  \n",
       "top                 NaN              NaN  \n",
       "freq                NaN              NaN  \n",
       "mean          22.629033        22.629282  \n",
       "std           52.120263        52.146030  \n",
       "min            0.000000         0.000000  \n",
       "25%            0.000000         0.000000  \n",
       "50%            0.000000         0.000000  \n",
       "75%            5.000000         5.000000  \n",
       "max          360.000000       359.000000  "
      ]
     },
     "execution_count": 39,
     "metadata": {},
     "output_type": "execute_result"
    }
   ],
   "source": [
    "df.describe(include='all')"
   ]
  },
  {
   "cell_type": "markdown",
   "id": "236ee279",
   "metadata": {},
   "source": [
    "Our analysis will focus on the number of Blue cars taken in the different regions within the countries as well as on specific days of the week.\n",
    "\n",
    "To successfully do this we shall need to clean the categorize the post codes to areas using the first two numbers of the postal code provided. That is the postal code starts with 75... we call that Area 75 etc"
   ]
  },
  {
   "cell_type": "code",
   "execution_count": 42,
   "id": "c6ee8653",
   "metadata": {
    "scrolled": false
   },
   "outputs": [
    {
     "data": {
      "text/html": [
       "<div>\n",
       "<style scoped>\n",
       "    .dataframe tbody tr th:only-of-type {\n",
       "        vertical-align: middle;\n",
       "    }\n",
       "\n",
       "    .dataframe tbody tr th {\n",
       "        vertical-align: top;\n",
       "    }\n",
       "\n",
       "    .dataframe thead th {\n",
       "        text-align: right;\n",
       "    }\n",
       "</style>\n",
       "<table border=\"1\" class=\"dataframe\">\n",
       "  <thead>\n",
       "    <tr style=\"text-align: right;\">\n",
       "      <th></th>\n",
       "      <th>Postal code</th>\n",
       "      <th>date</th>\n",
       "      <th>n_daily_data_points</th>\n",
       "      <th>dayOfWeek</th>\n",
       "      <th>day_type</th>\n",
       "      <th>BlueCars_taken_sum</th>\n",
       "      <th>BlueCars_returned_sum</th>\n",
       "      <th>Utilib_taken_sum</th>\n",
       "      <th>Utilib_returned_sum</th>\n",
       "      <th>Utilib_14_taken_sum</th>\n",
       "      <th>Utilib_14_returned_sum</th>\n",
       "      <th>Slots_freed_sum</th>\n",
       "      <th>Slots_taken_sum</th>\n",
       "      <th>Area_Code</th>\n",
       "    </tr>\n",
       "  </thead>\n",
       "  <tbody>\n",
       "    <tr>\n",
       "      <th>0</th>\n",
       "      <td>75001</td>\n",
       "      <td>1/1/2018</td>\n",
       "      <td>1440</td>\n",
       "      <td>0</td>\n",
       "      <td>weekday</td>\n",
       "      <td>110</td>\n",
       "      <td>103</td>\n",
       "      <td>3</td>\n",
       "      <td>2</td>\n",
       "      <td>10</td>\n",
       "      <td>9</td>\n",
       "      <td>22</td>\n",
       "      <td>20</td>\n",
       "      <td>75</td>\n",
       "    </tr>\n",
       "    <tr>\n",
       "      <th>1</th>\n",
       "      <td>75001</td>\n",
       "      <td>1/2/2018</td>\n",
       "      <td>1438</td>\n",
       "      <td>1</td>\n",
       "      <td>weekday</td>\n",
       "      <td>98</td>\n",
       "      <td>94</td>\n",
       "      <td>1</td>\n",
       "      <td>1</td>\n",
       "      <td>8</td>\n",
       "      <td>8</td>\n",
       "      <td>23</td>\n",
       "      <td>22</td>\n",
       "      <td>75</td>\n",
       "    </tr>\n",
       "    <tr>\n",
       "      <th>2</th>\n",
       "      <td>75001</td>\n",
       "      <td>1/3/2018</td>\n",
       "      <td>1439</td>\n",
       "      <td>2</td>\n",
       "      <td>weekday</td>\n",
       "      <td>138</td>\n",
       "      <td>139</td>\n",
       "      <td>0</td>\n",
       "      <td>0</td>\n",
       "      <td>2</td>\n",
       "      <td>2</td>\n",
       "      <td>27</td>\n",
       "      <td>27</td>\n",
       "      <td>75</td>\n",
       "    </tr>\n",
       "    <tr>\n",
       "      <th>3</th>\n",
       "      <td>75001</td>\n",
       "      <td>1/4/2018</td>\n",
       "      <td>1320</td>\n",
       "      <td>3</td>\n",
       "      <td>weekday</td>\n",
       "      <td>104</td>\n",
       "      <td>104</td>\n",
       "      <td>2</td>\n",
       "      <td>2</td>\n",
       "      <td>9</td>\n",
       "      <td>8</td>\n",
       "      <td>25</td>\n",
       "      <td>21</td>\n",
       "      <td>75</td>\n",
       "    </tr>\n",
       "    <tr>\n",
       "      <th>4</th>\n",
       "      <td>75001</td>\n",
       "      <td>1/5/2018</td>\n",
       "      <td>1440</td>\n",
       "      <td>4</td>\n",
       "      <td>weekday</td>\n",
       "      <td>114</td>\n",
       "      <td>117</td>\n",
       "      <td>3</td>\n",
       "      <td>3</td>\n",
       "      <td>6</td>\n",
       "      <td>6</td>\n",
       "      <td>18</td>\n",
       "      <td>20</td>\n",
       "      <td>75</td>\n",
       "    </tr>\n",
       "    <tr>\n",
       "      <th>5</th>\n",
       "      <td>75001</td>\n",
       "      <td>1/6/2018</td>\n",
       "      <td>1437</td>\n",
       "      <td>5</td>\n",
       "      <td>weekend</td>\n",
       "      <td>187</td>\n",
       "      <td>185</td>\n",
       "      <td>6</td>\n",
       "      <td>6</td>\n",
       "      <td>7</td>\n",
       "      <td>8</td>\n",
       "      <td>38</td>\n",
       "      <td>35</td>\n",
       "      <td>75</td>\n",
       "    </tr>\n",
       "    <tr>\n",
       "      <th>6</th>\n",
       "      <td>75001</td>\n",
       "      <td>1/7/2018</td>\n",
       "      <td>1440</td>\n",
       "      <td>6</td>\n",
       "      <td>weekend</td>\n",
       "      <td>180</td>\n",
       "      <td>180</td>\n",
       "      <td>2</td>\n",
       "      <td>2</td>\n",
       "      <td>10</td>\n",
       "      <td>9</td>\n",
       "      <td>34</td>\n",
       "      <td>34</td>\n",
       "      <td>75</td>\n",
       "    </tr>\n",
       "    <tr>\n",
       "      <th>7</th>\n",
       "      <td>75001</td>\n",
       "      <td>1/8/2018</td>\n",
       "      <td>1438</td>\n",
       "      <td>0</td>\n",
       "      <td>weekday</td>\n",
       "      <td>84</td>\n",
       "      <td>83</td>\n",
       "      <td>3</td>\n",
       "      <td>3</td>\n",
       "      <td>10</td>\n",
       "      <td>10</td>\n",
       "      <td>14</td>\n",
       "      <td>15</td>\n",
       "      <td>75</td>\n",
       "    </tr>\n",
       "    <tr>\n",
       "      <th>8</th>\n",
       "      <td>75001</td>\n",
       "      <td>1/9/2018</td>\n",
       "      <td>1439</td>\n",
       "      <td>1</td>\n",
       "      <td>weekday</td>\n",
       "      <td>81</td>\n",
       "      <td>84</td>\n",
       "      <td>1</td>\n",
       "      <td>1</td>\n",
       "      <td>4</td>\n",
       "      <td>4</td>\n",
       "      <td>15</td>\n",
       "      <td>15</td>\n",
       "      <td>75</td>\n",
       "    </tr>\n",
       "    <tr>\n",
       "      <th>9</th>\n",
       "      <td>75001</td>\n",
       "      <td>1/10/2018</td>\n",
       "      <td>1440</td>\n",
       "      <td>2</td>\n",
       "      <td>weekday</td>\n",
       "      <td>88</td>\n",
       "      <td>85</td>\n",
       "      <td>5</td>\n",
       "      <td>5</td>\n",
       "      <td>11</td>\n",
       "      <td>11</td>\n",
       "      <td>23</td>\n",
       "      <td>22</td>\n",
       "      <td>75</td>\n",
       "    </tr>\n",
       "  </tbody>\n",
       "</table>\n",
       "</div>"
      ],
      "text/plain": [
       "  Postal code       date  n_daily_data_points  dayOfWeek day_type  \\\n",
       "0       75001   1/1/2018                 1440          0  weekday   \n",
       "1       75001   1/2/2018                 1438          1  weekday   \n",
       "2       75001   1/3/2018                 1439          2  weekday   \n",
       "3       75001   1/4/2018                 1320          3  weekday   \n",
       "4       75001   1/5/2018                 1440          4  weekday   \n",
       "5       75001   1/6/2018                 1437          5  weekend   \n",
       "6       75001   1/7/2018                 1440          6  weekend   \n",
       "7       75001   1/8/2018                 1438          0  weekday   \n",
       "8       75001   1/9/2018                 1439          1  weekday   \n",
       "9       75001  1/10/2018                 1440          2  weekday   \n",
       "\n",
       "   BlueCars_taken_sum  BlueCars_returned_sum  Utilib_taken_sum  \\\n",
       "0                 110                    103                 3   \n",
       "1                  98                     94                 1   \n",
       "2                 138                    139                 0   \n",
       "3                 104                    104                 2   \n",
       "4                 114                    117                 3   \n",
       "5                 187                    185                 6   \n",
       "6                 180                    180                 2   \n",
       "7                  84                     83                 3   \n",
       "8                  81                     84                 1   \n",
       "9                  88                     85                 5   \n",
       "\n",
       "   Utilib_returned_sum  Utilib_14_taken_sum  Utilib_14_returned_sum  \\\n",
       "0                    2                   10                       9   \n",
       "1                    1                    8                       8   \n",
       "2                    0                    2                       2   \n",
       "3                    2                    9                       8   \n",
       "4                    3                    6                       6   \n",
       "5                    6                    7                       8   \n",
       "6                    2                   10                       9   \n",
       "7                    3                   10                      10   \n",
       "8                    1                    4                       4   \n",
       "9                    5                   11                      11   \n",
       "\n",
       "   Slots_freed_sum  Slots_taken_sum Area_Code  \n",
       "0               22               20        75  \n",
       "1               23               22        75  \n",
       "2               27               27        75  \n",
       "3               25               21        75  \n",
       "4               18               20        75  \n",
       "5               38               35        75  \n",
       "6               34               34        75  \n",
       "7               14               15        75  \n",
       "8               15               15        75  \n",
       "9               23               22        75  "
      ]
     },
     "execution_count": 42,
     "metadata": {},
     "output_type": "execute_result"
    }
   ],
   "source": [
    "# first convert postal code column to object types\n",
    "\n",
    "df['Postal code'] = df['Postal code'].astype(str)\n",
    "\n",
    "# Initialize an empty list\n",
    "Area_Code = []\n",
    "\n",
    "\n",
    "# Loop through postal codes, get the first 2 digits and append to the empyt list.\n",
    "for post in df['Postal code']:\n",
    "  codes = post[:2]\n",
    "  Area_Code.append(codes)\n",
    "    \n",
    "    \n",
    "# Create a new column 'Area_Code' with the values in the Area_code list\n",
    "df['Area_Code'] = Area_Code\n",
    "\n",
    "# Preview first 10 rows of the dataset\n",
    "\n",
    "df.head(10)\n"
   ]
  },
  {
   "cell_type": "markdown",
   "id": "281aa783",
   "metadata": {},
   "source": [
    "**Our Hypothesis** \n",
    "\n",
    "**H0:** The average number of Blue Cars taken in areacode 75 on weekdays is the same as that taken on all other area codes.\n",
    "\n",
    "**H1:** The average number of Blue Cars taken in areacode 75 on weekdays is different than that taken in all other area codes.\n",
    "\n",
    "The logic behind both null and alternate hypothesis is that area code 75 covers the main business district and thus our alternate hypothesis is that there's a difference in average number of blue cars taken in that area vs other areas.\n",
    "\n",
    "It will be a two tailed test with a concifidence level of 5%\n",
    "\n",
    "To do this we need to take 2 random samples from area 75 and other areas of n=1000 each, create a dataframe of the sample data and calculate their differences."
   ]
  },
  {
   "cell_type": "code",
   "execution_count": 44,
   "id": "d8ab86d6",
   "metadata": {},
   "outputs": [
    {
     "name": "stdout",
     "output_type": "stream",
     "text": [
      "(2463, 14)\n"
     ]
    },
    {
     "data": {
      "text/html": [
       "<div>\n",
       "<style scoped>\n",
       "    .dataframe tbody tr th:only-of-type {\n",
       "        vertical-align: middle;\n",
       "    }\n",
       "\n",
       "    .dataframe tbody tr th {\n",
       "        vertical-align: top;\n",
       "    }\n",
       "\n",
       "    .dataframe thead th {\n",
       "        text-align: right;\n",
       "    }\n",
       "</style>\n",
       "<table border=\"1\" class=\"dataframe\">\n",
       "  <thead>\n",
       "    <tr style=\"text-align: right;\">\n",
       "      <th></th>\n",
       "      <th>Postal code</th>\n",
       "      <th>date</th>\n",
       "      <th>n_daily_data_points</th>\n",
       "      <th>dayOfWeek</th>\n",
       "      <th>day_type</th>\n",
       "      <th>BlueCars_taken_sum</th>\n",
       "      <th>BlueCars_returned_sum</th>\n",
       "      <th>Utilib_taken_sum</th>\n",
       "      <th>Utilib_returned_sum</th>\n",
       "      <th>Utilib_14_taken_sum</th>\n",
       "      <th>Utilib_14_returned_sum</th>\n",
       "      <th>Slots_freed_sum</th>\n",
       "      <th>Slots_taken_sum</th>\n",
       "      <th>Area_Code</th>\n",
       "    </tr>\n",
       "  </thead>\n",
       "  <tbody>\n",
       "    <tr>\n",
       "      <th>0</th>\n",
       "      <td>75001</td>\n",
       "      <td>1/1/2018</td>\n",
       "      <td>1440</td>\n",
       "      <td>0</td>\n",
       "      <td>weekday</td>\n",
       "      <td>110</td>\n",
       "      <td>103</td>\n",
       "      <td>3</td>\n",
       "      <td>2</td>\n",
       "      <td>10</td>\n",
       "      <td>9</td>\n",
       "      <td>22</td>\n",
       "      <td>20</td>\n",
       "      <td>75</td>\n",
       "    </tr>\n",
       "    <tr>\n",
       "      <th>1</th>\n",
       "      <td>75001</td>\n",
       "      <td>1/2/2018</td>\n",
       "      <td>1438</td>\n",
       "      <td>1</td>\n",
       "      <td>weekday</td>\n",
       "      <td>98</td>\n",
       "      <td>94</td>\n",
       "      <td>1</td>\n",
       "      <td>1</td>\n",
       "      <td>8</td>\n",
       "      <td>8</td>\n",
       "      <td>23</td>\n",
       "      <td>22</td>\n",
       "      <td>75</td>\n",
       "    </tr>\n",
       "    <tr>\n",
       "      <th>2</th>\n",
       "      <td>75001</td>\n",
       "      <td>1/3/2018</td>\n",
       "      <td>1439</td>\n",
       "      <td>2</td>\n",
       "      <td>weekday</td>\n",
       "      <td>138</td>\n",
       "      <td>139</td>\n",
       "      <td>0</td>\n",
       "      <td>0</td>\n",
       "      <td>2</td>\n",
       "      <td>2</td>\n",
       "      <td>27</td>\n",
       "      <td>27</td>\n",
       "      <td>75</td>\n",
       "    </tr>\n",
       "  </tbody>\n",
       "</table>\n",
       "</div>"
      ],
      "text/plain": [
       "  Postal code      date  n_daily_data_points  dayOfWeek day_type  \\\n",
       "0       75001  1/1/2018                 1440          0  weekday   \n",
       "1       75001  1/2/2018                 1438          1  weekday   \n",
       "2       75001  1/3/2018                 1439          2  weekday   \n",
       "\n",
       "   BlueCars_taken_sum  BlueCars_returned_sum  Utilib_taken_sum  \\\n",
       "0                 110                    103                 3   \n",
       "1                  98                     94                 1   \n",
       "2                 138                    139                 0   \n",
       "\n",
       "   Utilib_returned_sum  Utilib_14_taken_sum  Utilib_14_returned_sum  \\\n",
       "0                    2                   10                       9   \n",
       "1                    1                    8                       8   \n",
       "2                    0                    2                       2   \n",
       "\n",
       "   Slots_freed_sum  Slots_taken_sum Area_Code  \n",
       "0               22               20        75  \n",
       "1               23               22        75  \n",
       "2               27               27        75  "
      ]
     },
     "execution_count": 44,
     "metadata": {},
     "output_type": "execute_result"
    }
   ],
   "source": [
    "# Filtering Area code 75, weekday  data from the dataset\n",
    "\n",
    "area_75 = df[df['Area_Code'] == '75']\n",
    "weekdays_area_75 = area_75[area_75['day_type'] == 'weekday']\n",
    "print(weekdays_area_75.shape)\n",
    "weekdays_area_75.head(3)"
   ]
  },
  {
   "cell_type": "code",
   "execution_count": 45,
   "id": "f993f2c5",
   "metadata": {},
   "outputs": [
    {
     "name": "stdout",
     "output_type": "stream",
     "text": [
      "(9081, 14)\n"
     ]
    },
    {
     "data": {
      "text/html": [
       "<div>\n",
       "<style scoped>\n",
       "    .dataframe tbody tr th:only-of-type {\n",
       "        vertical-align: middle;\n",
       "    }\n",
       "\n",
       "    .dataframe tbody tr th {\n",
       "        vertical-align: top;\n",
       "    }\n",
       "\n",
       "    .dataframe thead th {\n",
       "        text-align: right;\n",
       "    }\n",
       "</style>\n",
       "<table border=\"1\" class=\"dataframe\">\n",
       "  <thead>\n",
       "    <tr style=\"text-align: right;\">\n",
       "      <th></th>\n",
       "      <th>Postal code</th>\n",
       "      <th>date</th>\n",
       "      <th>n_daily_data_points</th>\n",
       "      <th>dayOfWeek</th>\n",
       "      <th>day_type</th>\n",
       "      <th>BlueCars_taken_sum</th>\n",
       "      <th>BlueCars_returned_sum</th>\n",
       "      <th>Utilib_taken_sum</th>\n",
       "      <th>Utilib_returned_sum</th>\n",
       "      <th>Utilib_14_taken_sum</th>\n",
       "      <th>Utilib_14_returned_sum</th>\n",
       "      <th>Slots_freed_sum</th>\n",
       "      <th>Slots_taken_sum</th>\n",
       "      <th>Area_Code</th>\n",
       "    </tr>\n",
       "  </thead>\n",
       "  <tbody>\n",
       "    <tr>\n",
       "      <th>3431</th>\n",
       "      <td>78000</td>\n",
       "      <td>1/1/2018</td>\n",
       "      <td>1440</td>\n",
       "      <td>0</td>\n",
       "      <td>weekday</td>\n",
       "      <td>71</td>\n",
       "      <td>56</td>\n",
       "      <td>2</td>\n",
       "      <td>2</td>\n",
       "      <td>4</td>\n",
       "      <td>4</td>\n",
       "      <td>0</td>\n",
       "      <td>0</td>\n",
       "      <td>78</td>\n",
       "    </tr>\n",
       "    <tr>\n",
       "      <th>3432</th>\n",
       "      <td>78000</td>\n",
       "      <td>1/2/2018</td>\n",
       "      <td>1438</td>\n",
       "      <td>1</td>\n",
       "      <td>weekday</td>\n",
       "      <td>24</td>\n",
       "      <td>21</td>\n",
       "      <td>2</td>\n",
       "      <td>2</td>\n",
       "      <td>1</td>\n",
       "      <td>0</td>\n",
       "      <td>0</td>\n",
       "      <td>0</td>\n",
       "      <td>78</td>\n",
       "    </tr>\n",
       "    <tr>\n",
       "      <th>3433</th>\n",
       "      <td>78000</td>\n",
       "      <td>1/3/2018</td>\n",
       "      <td>1439</td>\n",
       "      <td>2</td>\n",
       "      <td>weekday</td>\n",
       "      <td>43</td>\n",
       "      <td>49</td>\n",
       "      <td>0</td>\n",
       "      <td>0</td>\n",
       "      <td>1</td>\n",
       "      <td>3</td>\n",
       "      <td>0</td>\n",
       "      <td>0</td>\n",
       "      <td>78</td>\n",
       "    </tr>\n",
       "  </tbody>\n",
       "</table>\n",
       "</div>"
      ],
      "text/plain": [
       "     Postal code      date  n_daily_data_points  dayOfWeek day_type  \\\n",
       "3431       78000  1/1/2018                 1440          0  weekday   \n",
       "3432       78000  1/2/2018                 1438          1  weekday   \n",
       "3433       78000  1/3/2018                 1439          2  weekday   \n",
       "\n",
       "      BlueCars_taken_sum  BlueCars_returned_sum  Utilib_taken_sum  \\\n",
       "3431                  71                     56                 2   \n",
       "3432                  24                     21                 2   \n",
       "3433                  43                     49                 0   \n",
       "\n",
       "      Utilib_returned_sum  Utilib_14_taken_sum  Utilib_14_returned_sum  \\\n",
       "3431                    2                    4                       4   \n",
       "3432                    2                    1                       0   \n",
       "3433                    0                    1                       3   \n",
       "\n",
       "      Slots_freed_sum  Slots_taken_sum Area_Code  \n",
       "3431                0                0        78  \n",
       "3432                0                0        78  \n",
       "3433                0                0        78  "
      ]
     },
     "execution_count": 45,
     "metadata": {},
     "output_type": "execute_result"
    }
   ],
   "source": [
    "# creating a new df with other areas\n",
    "\n",
    "other_areas = df[df['Area_Code'] != '75']\n",
    "weekdays_other_areas = other_areas[other_areas['day_type'] == 'weekday']\n",
    "print(weekdays_other_areas.shape)\n",
    "weekdays_other_areas.head(3)"
   ]
  },
  {
   "cell_type": "code",
   "execution_count": 46,
   "id": "3aa2f68a",
   "metadata": {},
   "outputs": [],
   "source": [
    "# Sampling from each dataset\n",
    "\n",
    "sample_75_weekdays = weekdays_area_75['BlueCars_taken_sum'].sample(1000).tolist()\n",
    "sample_other_areas_weekdays = weekdays_other_areas['BlueCars_taken_sum'].sample(1000).tolist()"
   ]
  },
  {
   "cell_type": "code",
   "execution_count": 47,
   "id": "62480478",
   "metadata": {},
   "outputs": [
    {
     "data": {
      "text/html": [
       "<div>\n",
       "<style scoped>\n",
       "    .dataframe tbody tr th:only-of-type {\n",
       "        vertical-align: middle;\n",
       "    }\n",
       "\n",
       "    .dataframe tbody tr th {\n",
       "        vertical-align: top;\n",
       "    }\n",
       "\n",
       "    .dataframe thead th {\n",
       "        text-align: right;\n",
       "    }\n",
       "</style>\n",
       "<table border=\"1\" class=\"dataframe\">\n",
       "  <thead>\n",
       "    <tr style=\"text-align: right;\">\n",
       "      <th></th>\n",
       "      <th>BlueCars_taken_Area_75</th>\n",
       "      <th>BlueCars_taken_Other_Areas</th>\n",
       "    </tr>\n",
       "  </thead>\n",
       "  <tbody>\n",
       "    <tr>\n",
       "      <th>0</th>\n",
       "      <td>5</td>\n",
       "      <td>59</td>\n",
       "    </tr>\n",
       "    <tr>\n",
       "      <th>1</th>\n",
       "      <td>288</td>\n",
       "      <td>25</td>\n",
       "    </tr>\n",
       "    <tr>\n",
       "      <th>2</th>\n",
       "      <td>409</td>\n",
       "      <td>39</td>\n",
       "    </tr>\n",
       "    <tr>\n",
       "      <th>3</th>\n",
       "      <td>189</td>\n",
       "      <td>118</td>\n",
       "    </tr>\n",
       "    <tr>\n",
       "      <th>4</th>\n",
       "      <td>178</td>\n",
       "      <td>65</td>\n",
       "    </tr>\n",
       "  </tbody>\n",
       "</table>\n",
       "</div>"
      ],
      "text/plain": [
       "   BlueCars_taken_Area_75  BlueCars_taken_Other_Areas\n",
       "0                       5                          59\n",
       "1                     288                          25\n",
       "2                     409                          39\n",
       "3                     189                         118\n",
       "4                     178                          65"
      ]
     },
     "execution_count": 47,
     "metadata": {},
     "output_type": "execute_result"
    }
   ],
   "source": [
    "# Creating a dataframe of the two samples.\n",
    "sample_data = {'BlueCars_taken_Area_75':sample_75_weekdays,'BlueCars_taken_Other_Areas':sample_other_areas_weekdays}\n",
    "sample_df = pd.DataFrame(sample_data)\n",
    "sample_df.head()"
   ]
  },
  {
   "cell_type": "markdown",
   "id": "251922f0",
   "metadata": {},
   "source": [
    "Next, we calculate the difference of the two columns"
   ]
  },
  {
   "cell_type": "code",
   "execution_count": 48,
   "id": "8b0de6f4",
   "metadata": {},
   "outputs": [
    {
     "data": {
      "text/html": [
       "<div>\n",
       "<style scoped>\n",
       "    .dataframe tbody tr th:only-of-type {\n",
       "        vertical-align: middle;\n",
       "    }\n",
       "\n",
       "    .dataframe tbody tr th {\n",
       "        vertical-align: top;\n",
       "    }\n",
       "\n",
       "    .dataframe thead th {\n",
       "        text-align: right;\n",
       "    }\n",
       "</style>\n",
       "<table border=\"1\" class=\"dataframe\">\n",
       "  <thead>\n",
       "    <tr style=\"text-align: right;\">\n",
       "      <th></th>\n",
       "      <th>BlueCars_taken_Area_75</th>\n",
       "      <th>BlueCars_taken_Other_Areas</th>\n",
       "      <th>Difference_BlueCars_Taken</th>\n",
       "    </tr>\n",
       "  </thead>\n",
       "  <tbody>\n",
       "    <tr>\n",
       "      <th>0</th>\n",
       "      <td>5</td>\n",
       "      <td>59</td>\n",
       "      <td>-54</td>\n",
       "    </tr>\n",
       "    <tr>\n",
       "      <th>1</th>\n",
       "      <td>288</td>\n",
       "      <td>25</td>\n",
       "      <td>263</td>\n",
       "    </tr>\n",
       "    <tr>\n",
       "      <th>2</th>\n",
       "      <td>409</td>\n",
       "      <td>39</td>\n",
       "      <td>370</td>\n",
       "    </tr>\n",
       "    <tr>\n",
       "      <th>3</th>\n",
       "      <td>189</td>\n",
       "      <td>118</td>\n",
       "      <td>71</td>\n",
       "    </tr>\n",
       "    <tr>\n",
       "      <th>4</th>\n",
       "      <td>178</td>\n",
       "      <td>65</td>\n",
       "      <td>113</td>\n",
       "    </tr>\n",
       "  </tbody>\n",
       "</table>\n",
       "</div>"
      ],
      "text/plain": [
       "   BlueCars_taken_Area_75  BlueCars_taken_Other_Areas  \\\n",
       "0                       5                          59   \n",
       "1                     288                          25   \n",
       "2                     409                          39   \n",
       "3                     189                         118   \n",
       "4                     178                          65   \n",
       "\n",
       "   Difference_BlueCars_Taken  \n",
       "0                        -54  \n",
       "1                        263  \n",
       "2                        370  \n",
       "3                         71  \n",
       "4                        113  "
      ]
     },
     "execution_count": 48,
     "metadata": {},
     "output_type": "execute_result"
    }
   ],
   "source": [
    "# Creating a new column of differences\n",
    "\n",
    "sample_df['Difference_BlueCars_Taken'] = sample_df['BlueCars_taken_Area_75'] - sample_df['BlueCars_taken_Other_Areas']\n",
    "sample_df.head()"
   ]
  },
  {
   "cell_type": "code",
   "execution_count": 49,
   "id": "aafedeac",
   "metadata": {},
   "outputs": [
    {
     "name": "stdout",
     "output_type": "stream",
     "text": [
      "Statistics=0.979, p=0.000\n",
      "Sample does not look Gaussian (reject H0)\n"
     ]
    }
   ],
   "source": [
    "# Testing for normality of the distribution of the difference\n",
    "\n",
    "from scipy.stats import shapiro\n",
    "\n",
    "stat, p = shapiro(sample_df['Difference_BlueCars_Taken'])\n",
    "print('Statistics=%.3f, p=%.3f' % (stat, p))\n",
    "\n",
    "alpha = 0.05\n",
    "\n",
    "if p > alpha:\n",
    "    print('Sample looks Gaussian (fail to reject H0)')\n",
    "else:\n",
    "    print('Sample does not look Gaussian (reject H0)')"
   ]
  },
  {
   "cell_type": "code",
   "execution_count": 52,
   "id": "bab199d6",
   "metadata": {},
   "outputs": [
    {
     "data": {
      "text/plain": [
       "<seaborn.axisgrid.FacetGrid at 0x1efa66d8970>"
      ]
     },
     "execution_count": 52,
     "metadata": {},
     "output_type": "execute_result"
    },
    {
     "data": {
      "image/png": "[encoded data removed]",
      "text/plain": [
       "<Figure size 360x360 with 1 Axes>"
      ]
     },
     "metadata": {
      "needs_background": "light"
     },
     "output_type": "display_data"
    }
   ],
   "source": [
    "# Verifying distribution using a distplot\n",
    "sns.displot(sample_df['Difference_BlueCars_Taken'], kde=True)"
   ]
  },
  {
   "cell_type": "markdown",
   "id": "994c64a0",
   "metadata": {},
   "source": [
    "Given that our data failed the normality test, we shall use the nonparametric Mann–Whitney U test."
   ]
  },
  {
   "cell_type": "code",
   "execution_count": 54,
   "id": "8e2b12b5",
   "metadata": {},
   "outputs": [
    {
     "name": "stdout",
     "output_type": "stream",
     "text": [
      "Statistics=108239.000, p=0.000\n",
      "On average, BlueCars taken in area 75 on weekdays are the Different from BlueCars taken in other areas on weekdays (reject H0)\n"
     ]
    }
   ],
   "source": [
    "from scipy.stats import mannwhitneyu\n",
    "\n",
    "stat, p = mannwhitneyu(sample_df['BlueCars_taken_Area_75'], sample_df['BlueCars_taken_Other_Areas'])\n",
    "print('Statistics=%.3f, p=%.3f' % (stat, p))\n",
    "\n",
    "# Initialize alpha\n",
    "a = 0.05\n",
    "\n",
    "if p > alpha:\n",
    "    print('On average, BlueCars taken in area 75 on weekdays are the same as BlueCars taken in other areas on weekdays (fail to reject H0)')\n",
    "else:\n",
    "    print('On average, BlueCars taken in area 75 on weekdays are the Different from BlueCars taken in other areas on weekdays (reject H0)')"
   ]
  },
  {
   "cell_type": "markdown",
   "id": "614dc2d5",
   "metadata": {},
   "source": [
    "**Conclusion:** As the p-value obtained from the test is lower than alpha, **we reject the null hypothesis.** As such we can conlude the data does not provide enough statistical evidence for us to say that the nyumber blue cars taken in area code 75 are the same as the number of blue cars taken in area other area codes. "
   ]
  }
 ],
 "metadata": {
  "colab": {
   "name": "Statistics Independent Project by Meshack Mbonge.ipynb",
   "provenance": []
  },
  "kernelspec": {
   "display_name": "Python 3",
   "language": "python",
   "name": "python3"
  },
  "language_info": {
   "codemirror_mode": {
    "name": "ipython",
    "version": 3
   },
   "file_extension": ".py",
   "mimetype": "text/x-python",
   "name": "python",
   "nbconvert_exporter": "python",
   "pygments_lexer": "ipython3",
   "version": "3.8.8"
  }
 },
 "nbformat": 4,
 "nbformat_minor": 5
}
